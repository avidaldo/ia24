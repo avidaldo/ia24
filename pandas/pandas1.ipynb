{
 "cells": [
  {
   "cell_type": "markdown",
   "metadata": {},
   "source": [
    "# pandas"
   ]
  },
  {
   "cell_type": "markdown",
   "metadata": {},
   "source": [
    "## Introducción"
   ]
  },
  {
   "cell_type": "markdown",
   "metadata": {},
   "source": [
    "pandas es una librería para manipulación y análisis de datos. Se crea en 2008 ante el incremento del uso de Python en aplicaciones científicas tradicionalmente dominadas por **R**, MATLAB o SAS y fundamentándose en la madurez y estabilidad de **NumPy** y **SciPy**. Su nombre deriva de  ***Pan**el **Da**ta*, término habitual en estadística y econometría para referirse a conjuntos de datos multidimensionales.\n",
    "\n",
    "Permite:\n",
    "- Importación sencilla desde CSV, JSON, Excel, SQL, etc. \n",
    "- Operaciones de manipulación: selección, filtrado, agregación.\n",
    "- Limpieza de datos (*data cleaning* o *data cleansing*).\n",
    "- *Data wrangling* o *Data mungling*: transformación de datos entre formatos\n",
    "\n",
    "Estructuras de pandas:\n",
    "- Series: array de 1D\n",
    "- DataFrame: array de 2D\n",
    "- Panel: array de 3D\n",
    "\n",
    "\n",
    "Documentación oficial: https://pandas.pydata.org/docs/"
   ]
  },
  {
   "cell_type": "code",
   "execution_count": 1,
   "metadata": {},
   "outputs": [],
   "source": [
    "import pandas as pd"
   ]
  },
  {
   "cell_type": "markdown",
   "metadata": {},
   "source": [
    "## Series"
   ]
  },
  {
   "cell_type": "markdown",
   "metadata": {},
   "source": [
    "El tipo **Series** es un array unidimensional que contiene una secuencia de valores y una secuencia de etiquetas asociadas a los valores, denominada índice. La existencia de este índice explícito (que puede ser de cualquier tipo inmutable) es la principal diferencia con un vector de NumPy, que tiene un índice implícito (una secuencia de enteros indicando la posición). Los índices de Series son como los de un diccionario, mientras que los índices de **NumPy** son como los de una lista."
   ]
  },
  {
   "cell_type": "markdown",
   "metadata": {},
   "source": [
    "### Estructura"
   ]
  },
  {
   "cell_type": "code",
   "execution_count": 2,
   "metadata": {},
   "outputs": [
    {
     "name": "stdout",
     "output_type": "stream",
     "text": [
      "0    1\n",
      "1    2\n",
      "2    3\n",
      "3    4\n",
      "4    5\n",
      "5    6\n",
      "dtype: int64\n",
      "<class 'pandas.core.series.Series'>\n"
     ]
    }
   ],
   "source": [
    "serie_ejemplo = pd.Series([1,2,3,4,5,6]) # Serie con índice implícito ya que parte de una lista\n",
    "print(serie_ejemplo)\n",
    "print(type(serie_ejemplo))"
   ]
  },
  {
   "cell_type": "code",
   "execution_count": 3,
   "metadata": {},
   "outputs": [],
   "source": [
    "# De modo análogo a como en NumPy creamos vectores partiendo de listas, en pandas podemos crear series a partir de diccionarios. En este caso, las claves del diccionario serán los índices de la serie y los valores del diccionario serán los valores de la serie.\n",
    "\n",
    "estudiantes_con_notas = pd.Series({'Estudiante 1': 5, 'Estudiante 2': 10, 'Estudiante 3': 7, 'Estudiante 4': 8})"
   ]
  },
  {
   "cell_type": "code",
   "execution_count": 4,
   "metadata": {},
   "outputs": [
    {
     "data": {
      "text/plain": [
       "Estudiante 1     5\n",
       "Estudiante 2    10\n",
       "Estudiante 3     7\n",
       "Estudiante 4     8\n",
       "dtype: int64"
      ]
     },
     "execution_count": 4,
     "metadata": {},
     "output_type": "execute_result"
    }
   ],
   "source": [
    "pd.Series([5,10,7,8], index=[\"Estudiante 1\",\"Estudiante 2\",\"Estudiante 3\",\"Estudiante 4\"]) # También se puede hacer así"
   ]
  },
  {
   "cell_type": "code",
   "execution_count": 5,
   "metadata": {},
   "outputs": [
    {
     "data": {
      "text/plain": [
       "1        Pepe Pérez\n",
       "7        Juan Gómez\n",
       "6         Ana López\n",
       "2      María García\n",
       "5    Luisa Martínez\n",
       "dtype: object"
      ]
     },
     "execution_count": 5,
     "metadata": {},
     "output_type": "execute_result"
    }
   ],
   "source": [
    "asientos_ocupados_teatro = pd.Series({1: \"Pepe Pérez\", 7: \"Juan Gómez\", 6: \"Ana López\", 2: \"María García\", 5: \"Luisa Martínez\"})\n",
    "asientos_ocupados_teatro"
   ]
  },
  {
   "cell_type": "markdown",
   "metadata": {},
   "source": [
    "### Acceso a elementos de una serie"
   ]
  },
  {
   "cell_type": "markdown",
   "metadata": {},
   "source": [
    "Hay que tener cuidado con realizar operaciones sobre posiciones en lugar de índices, ya que el índice explícito puede ser una un número y no una cadena de texto. En este caso, si se realiza una operación sobre una posición, se estará refiriendo a la posición del índice implícito, no al índice explícito.\n",
    "\n",
    "Para operar sobre posiciones se utiliza el atributo **iloc** (de *integer location*), mientras que para operar sobre índices se utiliza el atributo **loc** o directamente el operador de indexación **[]**, como en listas o diccionarios. Lo más común es utilizar el operador de indexación, ya que es más corto y legible.  "
   ]
  },
  {
   "cell_type": "code",
   "execution_count": 6,
   "metadata": {},
   "outputs": [
    {
     "name": "stdout",
     "output_type": "stream",
     "text": [
      "Juan Gómez\n",
      "Juan Gómez\n",
      "Juan Gómez\n"
     ]
    }
   ],
   "source": [
    "print(asientos_ocupados_teatro[7]) # Devuelve el valor de la primera posición del índice explícito 1\n",
    "print(asientos_ocupados_teatro.loc[7]) # Equivalente a lo anterior\n",
    "print(asientos_ocupados_teatro.iloc[1]) # Devuelve el valor de la posición 0\n",
    "# print(asientos_ocupados_teatro[0]) # Da error por ser los índices explícitos números y no existir el indice 0 (sería una fuente de errores de permitirse)"
   ]
  },
  {
   "cell_type": "code",
   "execution_count": 7,
   "metadata": {},
   "outputs": [
    {
     "name": "stdout",
     "output_type": "stream",
     "text": [
      "5\n",
      "5\n",
      "5\n",
      "5\n"
     ]
    },
    {
     "name": "stderr",
     "output_type": "stream",
     "text": [
      "/tmp/ipykernel_20161/2295211556.py:4: FutureWarning: Series.__getitem__ treating keys as positions is deprecated. In a future version, integer keys will always be treated as labels (consistent with DataFrame behavior). To access a value by position, use `ser.iloc[pos]`\n",
      "  print(estudiantes_con_notas[0]) # Devuelve el valor del índice implícito 0 (la posición 0)\n"
     ]
    }
   ],
   "source": [
    "print(estudiantes_con_notas[\"Estudiante 1\"]) # Devuelve el valor de la primera posición del índice explícito 1\n",
    "print(estudiantes_con_notas.loc[\"Estudiante 1\"]) # Equivalente a lo anterior\n",
    "print(estudiantes_con_notas.iloc[0]) # Devuelve el valor de la posición 0\n",
    "print(estudiantes_con_notas[0]) # Devuelve el valor del índice implícito 0 (la posición 0) \n",
    "# pero lanza un warning, no debe hacerse así sino con iloc y será eliminado en futuras versiones de pandas por ser fuente de errores\n",
    "# print(estudiantes_con_notas.loc[0]) # Da error por ser los índices explícitos strings y no existir el índice 0"
   ]
  },
  {
   "cell_type": "code",
   "execution_count": 8,
   "metadata": {},
   "outputs": [
    {
     "data": {
      "text/plain": [
       "Estudiante 1    10\n",
       "Estudiante 2    10\n",
       "Estudiante 3     5\n",
       "Estudiante 4     5\n",
       "dtype: int64"
      ]
     },
     "execution_count": 8,
     "metadata": {},
     "output_type": "execute_result"
    }
   ],
   "source": [
    "# Modificando valores por índices\n",
    "estudiantes_con_notas['Estudiante 1'] = 10\n",
    "estudiantes_con_notas['Estudiante 3':] = 5 # Modifica los valores desde el índice 3 hasta el final (slicing)\n",
    "estudiantes_con_notas"
   ]
  },
  {
   "cell_type": "code",
   "execution_count": 9,
   "metadata": {},
   "outputs": [
    {
     "name": "stdout",
     "output_type": "stream",
     "text": [
      "7.5\n",
      "2.886751345948129\n"
     ]
    }
   ],
   "source": [
    "print(estudiantes_con_notas.mean()) # Media de las notas\n",
    "print(estudiantes_con_notas.std()) # Desviación típica"
   ]
  },
  {
   "cell_type": "code",
   "execution_count": 10,
   "metadata": {},
   "outputs": [
    {
     "name": "stdout",
     "output_type": "stream",
     "text": [
      "count     4.000000\n",
      "mean      7.500000\n",
      "std       2.886751\n",
      "min       5.000000\n",
      "25%       5.000000\n",
      "50%       7.500000\n",
      "75%      10.000000\n",
      "max      10.000000\n",
      "dtype: float64\n"
     ]
    }
   ],
   "source": [
    "print(estudiantes_con_notas.describe()) # Estadísticas descriptivas de las notas de los estudiantes"
   ]
  },
  {
   "cell_type": "markdown",
   "metadata": {},
   "source": [
    "## DataFrame"
   ]
  },
  {
   "cell_type": "markdown",
   "metadata": {},
   "source": [
    "### Estructura de un DataFrame"
   ]
  },
  {
   "cell_type": "markdown",
   "metadata": {},
   "source": [
    "\n",
    "Un **DataFrame** es una estructura de datos tabular bidimensional, con filas y columnas etiquetadas. Es similar una tabla de base de datos relacional (SQL). Se puede considerar como una colección de Series que comparten el mismo índice. Es la estructura de datos más utilizada en pandas."
   ]
  },
  {
   "cell_type": "code",
   "execution_count": 11,
   "metadata": {},
   "outputs": [
    {
     "data": {
      "text/html": [
       "<div>\n",
       "<style scoped>\n",
       "    .dataframe tbody tr th:only-of-type {\n",
       "        vertical-align: middle;\n",
       "    }\n",
       "\n",
       "    .dataframe tbody tr th {\n",
       "        vertical-align: top;\n",
       "    }\n",
       "\n",
       "    .dataframe thead th {\n",
       "        text-align: right;\n",
       "    }\n",
       "</style>\n",
       "<table border=\"1\" class=\"dataframe\">\n",
       "  <thead>\n",
       "    <tr style=\"text-align: right;\">\n",
       "      <th></th>\n",
       "      <th>Notas</th>\n",
       "    </tr>\n",
       "  </thead>\n",
       "  <tbody>\n",
       "    <tr>\n",
       "      <th>Estudiante 1</th>\n",
       "      <td>10</td>\n",
       "    </tr>\n",
       "    <tr>\n",
       "      <th>Estudiante 2</th>\n",
       "      <td>10</td>\n",
       "    </tr>\n",
       "    <tr>\n",
       "      <th>Estudiante 3</th>\n",
       "      <td>5</td>\n",
       "    </tr>\n",
       "    <tr>\n",
       "      <th>Estudiante 4</th>\n",
       "      <td>5</td>\n",
       "    </tr>\n",
       "  </tbody>\n",
       "</table>\n",
       "</div>"
      ],
      "text/plain": [
       "              Notas\n",
       "Estudiante 1     10\n",
       "Estudiante 2     10\n",
       "Estudiante 3      5\n",
       "Estudiante 4      5"
      ]
     },
     "execution_count": 11,
     "metadata": {},
     "output_type": "execute_result"
    }
   ],
   "source": [
    "pd.DataFrame({'Notas': estudiantes_con_notas}) # Creamos un DataFrame a partir de la serie de notas (le estamos dando nombre a la columna)"
   ]
  },
  {
   "cell_type": "code",
   "execution_count": 12,
   "metadata": {},
   "outputs": [
    {
     "data": {
      "text/html": [
       "<div>\n",
       "<style scoped>\n",
       "    .dataframe tbody tr th:only-of-type {\n",
       "        vertical-align: middle;\n",
       "    }\n",
       "\n",
       "    .dataframe tbody tr th {\n",
       "        vertical-align: top;\n",
       "    }\n",
       "\n",
       "    .dataframe thead th {\n",
       "        text-align: right;\n",
       "    }\n",
       "</style>\n",
       "<table border=\"1\" class=\"dataframe\">\n",
       "  <thead>\n",
       "    <tr style=\"text-align: right;\">\n",
       "      <th></th>\n",
       "      <th>PIA</th>\n",
       "      <th>SAA</th>\n",
       "      <th>MIA</th>\n",
       "      <th>SBD</th>\n",
       "      <th>BDA</th>\n",
       "    </tr>\n",
       "  </thead>\n",
       "  <tbody>\n",
       "    <tr>\n",
       "      <th>Estudiante 1</th>\n",
       "      <td>10</td>\n",
       "      <td>5</td>\n",
       "      <td>9</td>\n",
       "      <td>10</td>\n",
       "      <td>6</td>\n",
       "    </tr>\n",
       "    <tr>\n",
       "      <th>Estudiante 2</th>\n",
       "      <td>10</td>\n",
       "      <td>6</td>\n",
       "      <td>8</td>\n",
       "      <td>9</td>\n",
       "      <td>7</td>\n",
       "    </tr>\n",
       "    <tr>\n",
       "      <th>Estudiante 3</th>\n",
       "      <td>5</td>\n",
       "      <td>7</td>\n",
       "      <td>7</td>\n",
       "      <td>8</td>\n",
       "      <td>8</td>\n",
       "    </tr>\n",
       "    <tr>\n",
       "      <th>Estudiante 4</th>\n",
       "      <td>5</td>\n",
       "      <td>8</td>\n",
       "      <td>6</td>\n",
       "      <td>7</td>\n",
       "      <td>9</td>\n",
       "    </tr>\n",
       "  </tbody>\n",
       "</table>\n",
       "</div>"
      ],
      "text/plain": [
       "              PIA  SAA  MIA  SBD  BDA\n",
       "Estudiante 1   10    5    9   10    6\n",
       "Estudiante 2   10    6    8    9    7\n",
       "Estudiante 3    5    7    7    8    8\n",
       "Estudiante 4    5    8    6    7    9"
      ]
     },
     "execution_count": 12,
     "metadata": {},
     "output_type": "execute_result"
    }
   ],
   "source": [
    "# Creamos directamente un dataframe con las notas de varios alumnos en varias asignaturas\n",
    "pd.DataFrame({'PIA': estudiantes_con_notas, 'SAA': [5, 6, 7, 8], 'MIA': [9, 8, 7, 6], 'SBD': [10, 9, 8, 7], 'BDA': [6, 7, 8, 9]})"
   ]
  },
  {
   "cell_type": "markdown",
   "metadata": {},
   "source": [
    "En el caso anterior hemos utilizado los indices de ```estudiantes_con_notas``` para crear el dataframe. Fijate que estamos añadiendo un objetos Series para la primera columna y un arrays para las siguientes."
   ]
  },
  {
   "cell_type": "code",
   "execution_count": 13,
   "metadata": {},
   "outputs": [
    {
     "data": {
      "text/html": [
       "<div>\n",
       "<style scoped>\n",
       "    .dataframe tbody tr th:only-of-type {\n",
       "        vertical-align: middle;\n",
       "    }\n",
       "\n",
       "    .dataframe tbody tr th {\n",
       "        vertical-align: top;\n",
       "    }\n",
       "\n",
       "    .dataframe thead th {\n",
       "        text-align: right;\n",
       "    }\n",
       "</style>\n",
       "<table border=\"1\" class=\"dataframe\">\n",
       "  <thead>\n",
       "    <tr style=\"text-align: right;\">\n",
       "      <th></th>\n",
       "      <th>PIA</th>\n",
       "      <th>SAA</th>\n",
       "      <th>MIA</th>\n",
       "      <th>SBD</th>\n",
       "      <th>BDA</th>\n",
       "    </tr>\n",
       "  </thead>\n",
       "  <tbody>\n",
       "    <tr>\n",
       "      <th>Nombre Erroneo</th>\n",
       "      <td>NaN</td>\n",
       "      <td>5</td>\n",
       "      <td>9</td>\n",
       "      <td>10</td>\n",
       "      <td>6</td>\n",
       "    </tr>\n",
       "    <tr>\n",
       "      <th>Estudiante 2</th>\n",
       "      <td>10.0</td>\n",
       "      <td>6</td>\n",
       "      <td>8</td>\n",
       "      <td>9</td>\n",
       "      <td>7</td>\n",
       "    </tr>\n",
       "    <tr>\n",
       "      <th>Estudiante 3</th>\n",
       "      <td>5.0</td>\n",
       "      <td>7</td>\n",
       "      <td>7</td>\n",
       "      <td>8</td>\n",
       "      <td>8</td>\n",
       "    </tr>\n",
       "    <tr>\n",
       "      <th>Estudiante 4</th>\n",
       "      <td>5.0</td>\n",
       "      <td>8</td>\n",
       "      <td>6</td>\n",
       "      <td>7</td>\n",
       "      <td>9</td>\n",
       "    </tr>\n",
       "  </tbody>\n",
       "</table>\n",
       "</div>"
      ],
      "text/plain": [
       "                 PIA  SAA  MIA  SBD  BDA\n",
       "Nombre Erroneo   NaN    5    9   10    6\n",
       "Estudiante 2    10.0    6    8    9    7\n",
       "Estudiante 3     5.0    7    7    8    8\n",
       "Estudiante 4     5.0    8    6    7    9"
      ]
     },
     "execution_count": 13,
     "metadata": {},
     "output_type": "execute_result"
    }
   ],
   "source": [
    "# Otra opción sería especificar los índices explícitos y recibir todas las notas como listas\n",
    "pd.DataFrame({'PIA': estudiantes_con_notas, 'SAA': [5, 6, 7, 8], 'MIA': [9, 8, 7, 6], 'SBD': [10, 9, 8, 7], 'BDA': [6, 7, 8, 9]}, index=['Nombre Erroneo', 'Estudiante 2', 'Estudiante 3', 'Estudiante 4'])"
   ]
  },
  {
   "cell_type": "markdown",
   "metadata": {},
   "source": [
    "Hemos cometido un error en el nombre de un estudiante, y como el primer listado de notas (PIA) era una Serie, no encuentra la nota para el índice 'Nombre Erroneo' y nos devuelve un **NaN (Not a Number)** (constante de NumPy). Para evitar esto, podemos crear un DataFrame a partir de un diccionario de listas, en lugar de un diccionario de Series. Las otras notas son simples listas sin índice, por lo que se asume que son correctas.\n",
    "Sin embargo, en este tipo de procesos es importante estar alerta. Que las notas de cada alumno solo estén identificadas por su posición en una lista es poco robusto, ya que si se añade un alumno o se cambia el orden de los alumnos, las notas se asignarán a alumnos distintos. Es mejor utilizar un diccionario de Series, ya que el índice explícito permite identificar correctamente a cada alumno.\n",
    "\n",
    "La siguiente solución es más robusta:"
   ]
  },
  {
   "cell_type": "code",
   "execution_count": 14,
   "metadata": {},
   "outputs": [
    {
     "data": {
      "text/html": [
       "<div>\n",
       "<style scoped>\n",
       "    .dataframe tbody tr th:only-of-type {\n",
       "        vertical-align: middle;\n",
       "    }\n",
       "\n",
       "    .dataframe tbody tr th {\n",
       "        vertical-align: top;\n",
       "    }\n",
       "\n",
       "    .dataframe thead th {\n",
       "        text-align: right;\n",
       "    }\n",
       "</style>\n",
       "<table border=\"1\" class=\"dataframe\">\n",
       "  <thead>\n",
       "    <tr style=\"text-align: right;\">\n",
       "      <th></th>\n",
       "      <th>PIA</th>\n",
       "      <th>SAA</th>\n",
       "      <th>MIA</th>\n",
       "      <th>SBD</th>\n",
       "      <th>BDA</th>\n",
       "    </tr>\n",
       "  </thead>\n",
       "  <tbody>\n",
       "    <tr>\n",
       "      <th>Alan Turing</th>\n",
       "      <td>7.0</td>\n",
       "      <td>9.0</td>\n",
       "      <td>7.0</td>\n",
       "      <td>10.0</td>\n",
       "      <td>9.9</td>\n",
       "    </tr>\n",
       "    <tr>\n",
       "      <th>Claude Shannon</th>\n",
       "      <td>6.5</td>\n",
       "      <td>8.0</td>\n",
       "      <td>6.0</td>\n",
       "      <td>9.0</td>\n",
       "      <td>6.9</td>\n",
       "    </tr>\n",
       "    <tr>\n",
       "      <th>John McCarthy</th>\n",
       "      <td>6.5</td>\n",
       "      <td>8.5</td>\n",
       "      <td>6.0</td>\n",
       "      <td>9.0</td>\n",
       "      <td>7.8</td>\n",
       "    </tr>\n",
       "    <tr>\n",
       "      <th>Marvin Minsky</th>\n",
       "      <td>5.7</td>\n",
       "      <td>8.0</td>\n",
       "      <td>7.0</td>\n",
       "      <td>9.0</td>\n",
       "      <td>10.0</td>\n",
       "    </tr>\n",
       "  </tbody>\n",
       "</table>\n",
       "</div>"
      ],
      "text/plain": [
       "                PIA  SAA  MIA   SBD   BDA\n",
       "Alan Turing     7.0  9.0  7.0  10.0   9.9\n",
       "Claude Shannon  6.5  8.0  6.0   9.0   6.9\n",
       "John McCarthy   6.5  8.5  6.0   9.0   7.8\n",
       "Marvin Minsky   5.7  8.0  7.0   9.0  10.0"
      ]
     },
     "execution_count": 14,
     "metadata": {},
     "output_type": "execute_result"
    }
   ],
   "source": [
    "notas_pia = pd.Series({'Marvin Minsky': 5.7, 'John McCarthy': 6.5, 'Claude Shannon': 6.5, 'Alan Turing': 7.0})\n",
    "notas_saa = pd.Series({'Marvin Minsky': 8.0, 'John McCarthy': 8.5, 'Claude Shannon': 8.0, 'Alan Turing': 9.0})\n",
    "notas_mia = pd.Series({'Marvin Minsky': 7.0, 'John McCarthy': 6.0, 'Claude Shannon': 6.0, 'Alan Turing': 7.0})\n",
    "notas_sbd = pd.Series({'Marvin Minsky': 9.0, 'John McCarthy': 9.0, 'Claude Shannon': 9.0, 'Alan Turing': 10.0})\n",
    "notas_bda = pd.Series({'John McCarthy': 7.8, 'Claude Shannon': 6.9, 'Alan Turing': 9.9, 'Marvin Minsky': 10}) # El orden no importa porque tenemos índices explícitos\n",
    "\n",
    "notas_df = pd.DataFrame({'PIA': notas_pia, 'SAA': notas_saa, 'MIA': notas_mia, 'SBD': notas_sbd, 'BDA': notas_bda})\n",
    "notas_df"
   ]
  },
  {
   "cell_type": "markdown",
   "metadata": {},
   "source": [
    "Un par de problemas a tener en consideración que podríamos tener en análisis de datos al utilizar *strings* como índices strings:\n",
    "- Los pueden no ser únicos (dos personas pueden tener el mismo nombre)\n",
    "- Puede haber variaciones sobre cómo se escriben los nombres (por ejemplo, con mayúsculas o minúsculas) en distintas fuentes de datos.\n",
    "Son dos de los motivos por los que en bases de datos relacionales se utilizan siempre claves primarias únicas indexadas, a menudo enteros autoincrementales que no tienen significado en sí mismos (claves surrogadas)."
   ]
  },
  {
   "cell_type": "code",
   "execution_count": 15,
   "metadata": {},
   "outputs": [
    {
     "data": {
      "text/html": [
       "<div>\n",
       "<style scoped>\n",
       "    .dataframe tbody tr th:only-of-type {\n",
       "        vertical-align: middle;\n",
       "    }\n",
       "\n",
       "    .dataframe tbody tr th {\n",
       "        vertical-align: top;\n",
       "    }\n",
       "\n",
       "    .dataframe thead th {\n",
       "        text-align: right;\n",
       "    }\n",
       "</style>\n",
       "<table border=\"1\" class=\"dataframe\">\n",
       "  <thead>\n",
       "    <tr style=\"text-align: right;\">\n",
       "      <th></th>\n",
       "      <th>PIA</th>\n",
       "      <th>SAA</th>\n",
       "    </tr>\n",
       "  </thead>\n",
       "  <tbody>\n",
       "    <tr>\n",
       "      <th>Alan Turing</th>\n",
       "      <td>7.0</td>\n",
       "      <td>NaN</td>\n",
       "    </tr>\n",
       "    <tr>\n",
       "      <th>Alan-Turing</th>\n",
       "      <td>NaN</td>\n",
       "      <td>9.0</td>\n",
       "    </tr>\n",
       "    <tr>\n",
       "      <th>Claude Shannon</th>\n",
       "      <td>6.5</td>\n",
       "      <td>NaN</td>\n",
       "    </tr>\n",
       "    <tr>\n",
       "      <th>John McCarthy</th>\n",
       "      <td>6.2</td>\n",
       "      <td>NaN</td>\n",
       "    </tr>\n",
       "    <tr>\n",
       "      <th>Marvin Minsky</th>\n",
       "      <td>5.7</td>\n",
       "      <td>NaN</td>\n",
       "    </tr>\n",
       "    <tr>\n",
       "      <th>McCarthy</th>\n",
       "      <td>NaN</td>\n",
       "      <td>8.5</td>\n",
       "    </tr>\n",
       "    <tr>\n",
       "      <th>marvin minsky</th>\n",
       "      <td>NaN</td>\n",
       "      <td>8.0</td>\n",
       "    </tr>\n",
       "    <tr>\n",
       "      <th>shannon</th>\n",
       "      <td>NaN</td>\n",
       "      <td>8.0</td>\n",
       "    </tr>\n",
       "  </tbody>\n",
       "</table>\n",
       "</div>"
      ],
      "text/plain": [
       "                PIA  SAA\n",
       "Alan Turing     7.0  NaN\n",
       "Alan-Turing     NaN  9.0\n",
       "Claude Shannon  6.5  NaN\n",
       "John McCarthy   6.2  NaN\n",
       "Marvin Minsky   5.7  NaN\n",
       "McCarthy        NaN  8.5\n",
       "marvin minsky   NaN  8.0\n",
       "shannon         NaN  8.0"
      ]
     },
     "execution_count": 15,
     "metadata": {},
     "output_type": "execute_result"
    }
   ],
   "source": [
    "notas_pia = pd.Series({'Marvin Minsky': 5.7, 'John McCarthy': 6.2, 'Claude Shannon': 6.5, 'Alan Turing': 7.0})\n",
    "notas_saa = pd.Series({'marvin minsky': 8.0, 'McCarthy': 8.5, 'shannon': 8.0, 'Alan-Turing': 9.0})\n",
    "notas_df_liandola_parda = pd.DataFrame({'PIA': notas_pia, 'SAA': notas_saa})\n",
    "notas_df_liandola_parda"
   ]
  },
  {
   "cell_type": "markdown",
   "metadata": {},
   "source": [
    "### Ejercicio propuesto: Crear un DataFrame a partir de distintas estructuras de datos"
   ]
  },
  {
   "cell_type": "code",
   "execution_count": 16,
   "metadata": {},
   "outputs": [],
   "source": [
    "notas_modulo1= {'Marvin Minsky': 5.7, 'John McCarthy': 6.2, 'Claude Shannon': 6.5, 'Alan Turing': 7.0}\n",
    "notas_modulo2= [('Marvin Minsky', 8.0), ('John McCarthy', 8.5), ('Claude Shannon', 8.0), ('Alan Turing', 9.0)]\n",
    "notas_modulo3= {('Marvin Minsky', 9.5), ('John McCarthy', 8.9), ('Claude Shannon', 8.7), ('Alan Turing', 9.1)}\n",
    "notas_modulo4= [3.3, 4.5, 6.7, 8.9]\n",
    "import numpy as np\n",
    "notas_modulo5= np.array([3.5, 4.1, 2.1, 9.3])\n",
    "notas_modulo6= pd.Series([8.3, 6.5, 5.7, 5.9])\n",
    "notas_modulo7= pd.Series([3.3, 4.5, 6.7, 8.9], index=['Marvin Minsky', 'John McCarthy', 'Claude Shannon', 'Alan Turing'])\n",
    "notas_modulo8= pd.Series({'Marvin Minsky': 5.7, 'John McCarthy': 6.2, 'Claude Shannon': 6.5, 'Alan Turing': 7.0})"
   ]
  },
  {
   "cell_type": "markdown",
   "metadata": {},
   "source": [
    "#### Solución"
   ]
  },
  {
   "cell_type": "code",
   "execution_count": 17,
   "metadata": {},
   "outputs": [
    {
     "data": {
      "text/html": [
       "<div>\n",
       "<style scoped>\n",
       "    .dataframe tbody tr th:only-of-type {\n",
       "        vertical-align: middle;\n",
       "    }\n",
       "\n",
       "    .dataframe tbody tr th {\n",
       "        vertical-align: top;\n",
       "    }\n",
       "\n",
       "    .dataframe thead th {\n",
       "        text-align: right;\n",
       "    }\n",
       "</style>\n",
       "<table border=\"1\" class=\"dataframe\">\n",
       "  <thead>\n",
       "    <tr style=\"text-align: right;\">\n",
       "      <th></th>\n",
       "      <th>Módulo 1</th>\n",
       "      <th>Módulo 2</th>\n",
       "      <th>Módulo 3</th>\n",
       "      <th>Módulo 4</th>\n",
       "      <th>Módulo 5</th>\n",
       "      <th>Módulo 6</th>\n",
       "      <th>Módulo 7</th>\n",
       "      <th>Módulo 8</th>\n",
       "    </tr>\n",
       "  </thead>\n",
       "  <tbody>\n",
       "    <tr>\n",
       "      <th>Marvin Minsky</th>\n",
       "      <td>5.7</td>\n",
       "      <td>8.0</td>\n",
       "      <td>9.5</td>\n",
       "      <td>3.3</td>\n",
       "      <td>3.5</td>\n",
       "      <td>8.3</td>\n",
       "      <td>3.3</td>\n",
       "      <td>5.7</td>\n",
       "    </tr>\n",
       "    <tr>\n",
       "      <th>John McCarthy</th>\n",
       "      <td>6.2</td>\n",
       "      <td>8.5</td>\n",
       "      <td>8.9</td>\n",
       "      <td>4.5</td>\n",
       "      <td>4.1</td>\n",
       "      <td>6.5</td>\n",
       "      <td>4.5</td>\n",
       "      <td>6.2</td>\n",
       "    </tr>\n",
       "    <tr>\n",
       "      <th>Claude Shannon</th>\n",
       "      <td>6.5</td>\n",
       "      <td>8.0</td>\n",
       "      <td>8.7</td>\n",
       "      <td>6.7</td>\n",
       "      <td>2.1</td>\n",
       "      <td>5.7</td>\n",
       "      <td>6.7</td>\n",
       "      <td>6.5</td>\n",
       "    </tr>\n",
       "    <tr>\n",
       "      <th>Alan Turing</th>\n",
       "      <td>7.0</td>\n",
       "      <td>9.0</td>\n",
       "      <td>9.1</td>\n",
       "      <td>8.9</td>\n",
       "      <td>9.3</td>\n",
       "      <td>5.9</td>\n",
       "      <td>8.9</td>\n",
       "      <td>7.0</td>\n",
       "    </tr>\n",
       "  </tbody>\n",
       "</table>\n",
       "</div>"
      ],
      "text/plain": [
       "                Módulo 1  Módulo 2  Módulo 3  Módulo 4  Módulo 5  Módulo 6  \\\n",
       "Marvin Minsky        5.7       8.0       9.5       3.3       3.5       8.3   \n",
       "John McCarthy        6.2       8.5       8.9       4.5       4.1       6.5   \n",
       "Claude Shannon       6.5       8.0       8.7       6.7       2.1       5.7   \n",
       "Alan Turing          7.0       9.0       9.1       8.9       9.3       5.9   \n",
       "\n",
       "                Módulo 7  Módulo 8  \n",
       "Marvin Minsky        3.3       5.7  \n",
       "John McCarthy        4.5       6.2  \n",
       "Claude Shannon       6.7       6.5  \n",
       "Alan Turing          8.9       7.0  "
      ]
     },
     "execution_count": 17,
     "metadata": {},
     "output_type": "execute_result"
    }
   ],
   "source": [
    "\n",
    "# notas_modulo6.index= ['Marvin Minsky', 'John McCarthy', 'Claude Shannon', 'Alan Turing']\n",
    "pd.DataFrame({\n",
    "    'Módulo 1': notas_modulo1,\n",
    "    'Módulo 2': dict(notas_modulo2),\n",
    "    'Módulo 3': dict(notas_modulo3),\n",
    "    'Módulo 4': pd.Series(notas_modulo4, index=['Marvin Minsky', 'John McCarthy', 'Claude Shannon', 'Alan Turing']),\n",
    "    'Módulo 5': pd.Series(notas_modulo5, index=['Marvin Minsky', 'John McCarthy', 'Claude Shannon', 'Alan Turing']),\n",
    "    'Módulo 6': pd.Series(notas_modulo6.values, index=['Marvin Minsky', 'John McCarthy', 'Claude Shannon', 'Alan Turing']),\n",
    "    # 'Módulo 6': dict(zip(['Marvin Minsky', 'John McCarthy', 'Claude Shannon', 'Alan Turing'], notas_modulo6.values)),\n",
    "    'Módulo 7': notas_modulo7,\n",
    "    'Módulo 8': notas_modulo8\n",
    "    })\n"
   ]
  },
  {
   "cell_type": "markdown",
   "metadata": {},
   "source": [
    "### Información sobre un DataFrame"
   ]
  },
  {
   "cell_type": "code",
   "execution_count": 18,
   "metadata": {},
   "outputs": [
    {
     "name": "stdout",
     "output_type": "stream",
     "text": [
      "<class 'pandas.core.frame.DataFrame'>\n",
      "Index: 4 entries, Alan Turing to Marvin Minsky\n",
      "Data columns (total 5 columns):\n",
      " #   Column  Non-Null Count  Dtype  \n",
      "---  ------  --------------  -----  \n",
      " 0   PIA     4 non-null      float64\n",
      " 1   SAA     4 non-null      float64\n",
      " 2   MIA     4 non-null      float64\n",
      " 3   SBD     4 non-null      float64\n",
      " 4   BDA     4 non-null      float64\n",
      "dtypes: float64(5)\n",
      "memory usage: 192.0+ bytes\n"
     ]
    }
   ],
   "source": [
    "notas_df.info() # Información sobre el DataFrame"
   ]
  },
  {
   "cell_type": "code",
   "execution_count": 19,
   "metadata": {},
   "outputs": [
    {
     "data": {
      "text/html": [
       "<div>\n",
       "<style scoped>\n",
       "    .dataframe tbody tr th:only-of-type {\n",
       "        vertical-align: middle;\n",
       "    }\n",
       "\n",
       "    .dataframe tbody tr th {\n",
       "        vertical-align: top;\n",
       "    }\n",
       "\n",
       "    .dataframe thead th {\n",
       "        text-align: right;\n",
       "    }\n",
       "</style>\n",
       "<table border=\"1\" class=\"dataframe\">\n",
       "  <thead>\n",
       "    <tr style=\"text-align: right;\">\n",
       "      <th></th>\n",
       "      <th>PIA</th>\n",
       "      <th>SAA</th>\n",
       "      <th>MIA</th>\n",
       "      <th>SBD</th>\n",
       "      <th>BDA</th>\n",
       "    </tr>\n",
       "  </thead>\n",
       "  <tbody>\n",
       "    <tr>\n",
       "      <th>Alan Turing</th>\n",
       "      <td>7.0</td>\n",
       "      <td>9.0</td>\n",
       "      <td>7.0</td>\n",
       "      <td>10.0</td>\n",
       "      <td>9.9</td>\n",
       "    </tr>\n",
       "    <tr>\n",
       "      <th>Claude Shannon</th>\n",
       "      <td>6.5</td>\n",
       "      <td>8.0</td>\n",
       "      <td>6.0</td>\n",
       "      <td>9.0</td>\n",
       "      <td>6.9</td>\n",
       "    </tr>\n",
       "    <tr>\n",
       "      <th>John McCarthy</th>\n",
       "      <td>6.5</td>\n",
       "      <td>8.5</td>\n",
       "      <td>6.0</td>\n",
       "      <td>9.0</td>\n",
       "      <td>7.8</td>\n",
       "    </tr>\n",
       "    <tr>\n",
       "      <th>Marvin Minsky</th>\n",
       "      <td>5.7</td>\n",
       "      <td>8.0</td>\n",
       "      <td>7.0</td>\n",
       "      <td>9.0</td>\n",
       "      <td>10.0</td>\n",
       "    </tr>\n",
       "  </tbody>\n",
       "</table>\n",
       "</div>"
      ],
      "text/plain": [
       "                PIA  SAA  MIA   SBD   BDA\n",
       "Alan Turing     7.0  9.0  7.0  10.0   9.9\n",
       "Claude Shannon  6.5  8.0  6.0   9.0   6.9\n",
       "John McCarthy   6.5  8.5  6.0   9.0   7.8\n",
       "Marvin Minsky   5.7  8.0  7.0   9.0  10.0"
      ]
     },
     "execution_count": 19,
     "metadata": {},
     "output_type": "execute_result"
    }
   ],
   "source": [
    "notas_df.head() # Primeras 5 filas (en este caso, solo hay 4, normalmente trabajaremos con datasets muchísimo más grandes y será útil poder ver solo las primeras filas para hacernos una idea de los datos)"
   ]
  },
  {
   "cell_type": "code",
   "execution_count": 20,
   "metadata": {},
   "outputs": [
    {
     "data": {
      "text/plain": [
       "(4, 5)"
      ]
     },
     "execution_count": 20,
     "metadata": {},
     "output_type": "execute_result"
    }
   ],
   "source": [
    "notas_df.shape # Número de filas y columnas"
   ]
  },
  {
   "cell_type": "code",
   "execution_count": 21,
   "metadata": {},
   "outputs": [
    {
     "data": {
      "text/plain": [
       "Index(['PIA', 'SAA', 'MIA', 'SBD', 'BDA'], dtype='object')"
      ]
     },
     "execution_count": 21,
     "metadata": {},
     "output_type": "execute_result"
    }
   ],
   "source": [
    "notas_df.keys() # Objeto \"Index\" con los nombres y tipo de las columnas"
   ]
  },
  {
   "cell_type": "code",
   "execution_count": 22,
   "metadata": {},
   "outputs": [
    {
     "data": {
      "text/plain": [
       "Index(['PIA', 'SAA', 'MIA', 'SBD', 'BDA'], dtype='object')"
      ]
     },
     "execution_count": 22,
     "metadata": {},
     "output_type": "execute_result"
    }
   ],
   "source": [
    "notas_df.columns # Equivalente al anterior pero solo para DataFrame (el método keys() funciona también para recuperar las claves de Series)"
   ]
  },
  {
   "cell_type": "code",
   "execution_count": 23,
   "metadata": {},
   "outputs": [
    {
     "data": {
      "text/plain": [
       "PIA    float64\n",
       "SAA    float64\n",
       "MIA    float64\n",
       "SBD    float64\n",
       "BDA    float64\n",
       "dtype: object"
      ]
     },
     "execution_count": 23,
     "metadata": {},
     "output_type": "execute_result"
    }
   ],
   "source": [
    "notas_df.dtypes # Tipos de datos de las columnas"
   ]
  },
  {
   "cell_type": "code",
   "execution_count": 24,
   "metadata": {},
   "outputs": [
    {
     "data": {
      "text/plain": [
       "Index(['Alan Turing', 'Claude Shannon', 'John McCarthy', 'Marvin Minsky'], dtype='object')"
      ]
     },
     "execution_count": 24,
     "metadata": {},
     "output_type": "execute_result"
    }
   ],
   "source": [
    "notas_df.index # Índices de las filas"
   ]
  },
  {
   "cell_type": "markdown",
   "metadata": {},
   "source": [
    "### Escritura y lectura de ficheros de datos"
   ]
  },
  {
   "cell_type": "markdown",
   "metadata": {},
   "source": [
    "Pandas ofrece una gran variedad de funciones para importar y exportar datos desde y hacia ficheros. Sin profundizar en ellos, a modo de ejemplo podemos almacenar el DataFrame ```notas_df``` en un **fichero CSV** con la función **to_csv** y recuperarlo con la función **read_csv**."
   ]
  },
  {
   "cell_type": "code",
   "execution_count": 25,
   "metadata": {},
   "outputs": [
    {
     "data": {
      "text/html": [
       "<div>\n",
       "<style scoped>\n",
       "    .dataframe tbody tr th:only-of-type {\n",
       "        vertical-align: middle;\n",
       "    }\n",
       "\n",
       "    .dataframe tbody tr th {\n",
       "        vertical-align: top;\n",
       "    }\n",
       "\n",
       "    .dataframe thead th {\n",
       "        text-align: right;\n",
       "    }\n",
       "</style>\n",
       "<table border=\"1\" class=\"dataframe\">\n",
       "  <thead>\n",
       "    <tr style=\"text-align: right;\">\n",
       "      <th></th>\n",
       "      <th>PIA</th>\n",
       "      <th>SAA</th>\n",
       "      <th>MIA</th>\n",
       "      <th>SBD</th>\n",
       "      <th>BDA</th>\n",
       "    </tr>\n",
       "  </thead>\n",
       "  <tbody>\n",
       "    <tr>\n",
       "      <th>Alan Turing</th>\n",
       "      <td>7.0</td>\n",
       "      <td>9.0</td>\n",
       "      <td>7.0</td>\n",
       "      <td>10.0</td>\n",
       "      <td>9.9</td>\n",
       "    </tr>\n",
       "    <tr>\n",
       "      <th>Claude Shannon</th>\n",
       "      <td>6.5</td>\n",
       "      <td>8.0</td>\n",
       "      <td>6.0</td>\n",
       "      <td>9.0</td>\n",
       "      <td>6.9</td>\n",
       "    </tr>\n",
       "    <tr>\n",
       "      <th>John McCarthy</th>\n",
       "      <td>6.5</td>\n",
       "      <td>8.5</td>\n",
       "      <td>6.0</td>\n",
       "      <td>9.0</td>\n",
       "      <td>7.8</td>\n",
       "    </tr>\n",
       "    <tr>\n",
       "      <th>Marvin Minsky</th>\n",
       "      <td>5.7</td>\n",
       "      <td>8.0</td>\n",
       "      <td>7.0</td>\n",
       "      <td>9.0</td>\n",
       "      <td>10.0</td>\n",
       "    </tr>\n",
       "  </tbody>\n",
       "</table>\n",
       "</div>"
      ],
      "text/plain": [
       "                PIA  SAA  MIA   SBD   BDA\n",
       "Alan Turing     7.0  9.0  7.0  10.0   9.9\n",
       "Claude Shannon  6.5  8.0  6.0   9.0   6.9\n",
       "John McCarthy   6.5  8.5  6.0   9.0   7.8\n",
       "Marvin Minsky   5.7  8.0  7.0   9.0  10.0"
      ]
     },
     "execution_count": 25,
     "metadata": {},
     "output_type": "execute_result"
    }
   ],
   "source": [
    "notas_df.to_csv('data/grades.csv') # el directorio data debe existir\n",
    "df = pd.read_csv('data/grades.csv', index_col=0)\n",
    "df"
   ]
  },
  {
   "cell_type": "markdown",
   "metadata": {},
   "source": [
    "el parámetro ```index_col=0``` indica que la primera columna del fichero csv es el índice explícito del DataFrame, si no se indica se crea un índice implícito."
   ]
  },
  {
   "cell_type": "code",
   "execution_count": 26,
   "metadata": {},
   "outputs": [
    {
     "data": {
      "text/html": [
       "<div>\n",
       "<style scoped>\n",
       "    .dataframe tbody tr th:only-of-type {\n",
       "        vertical-align: middle;\n",
       "    }\n",
       "\n",
       "    .dataframe tbody tr th {\n",
       "        vertical-align: top;\n",
       "    }\n",
       "\n",
       "    .dataframe thead th {\n",
       "        text-align: right;\n",
       "    }\n",
       "</style>\n",
       "<table border=\"1\" class=\"dataframe\">\n",
       "  <thead>\n",
       "    <tr style=\"text-align: right;\">\n",
       "      <th></th>\n",
       "      <th>Unnamed: 0</th>\n",
       "      <th>PIA</th>\n",
       "      <th>SAA</th>\n",
       "      <th>MIA</th>\n",
       "      <th>SBD</th>\n",
       "      <th>BDA</th>\n",
       "    </tr>\n",
       "  </thead>\n",
       "  <tbody>\n",
       "    <tr>\n",
       "      <th>0</th>\n",
       "      <td>Alan Turing</td>\n",
       "      <td>7.0</td>\n",
       "      <td>9.0</td>\n",
       "      <td>7.0</td>\n",
       "      <td>10.0</td>\n",
       "      <td>9.9</td>\n",
       "    </tr>\n",
       "    <tr>\n",
       "      <th>1</th>\n",
       "      <td>Claude Shannon</td>\n",
       "      <td>6.5</td>\n",
       "      <td>8.0</td>\n",
       "      <td>6.0</td>\n",
       "      <td>9.0</td>\n",
       "      <td>6.9</td>\n",
       "    </tr>\n",
       "    <tr>\n",
       "      <th>2</th>\n",
       "      <td>John McCarthy</td>\n",
       "      <td>6.5</td>\n",
       "      <td>8.5</td>\n",
       "      <td>6.0</td>\n",
       "      <td>9.0</td>\n",
       "      <td>7.8</td>\n",
       "    </tr>\n",
       "    <tr>\n",
       "      <th>3</th>\n",
       "      <td>Marvin Minsky</td>\n",
       "      <td>5.7</td>\n",
       "      <td>8.0</td>\n",
       "      <td>7.0</td>\n",
       "      <td>9.0</td>\n",
       "      <td>10.0</td>\n",
       "    </tr>\n",
       "  </tbody>\n",
       "</table>\n",
       "</div>"
      ],
      "text/plain": [
       "       Unnamed: 0  PIA  SAA  MIA   SBD   BDA\n",
       "0     Alan Turing  7.0  9.0  7.0  10.0   9.9\n",
       "1  Claude Shannon  6.5  8.0  6.0   9.0   6.9\n",
       "2   John McCarthy  6.5  8.5  6.0   9.0   7.8\n",
       "3   Marvin Minsky  5.7  8.0  7.0   9.0  10.0"
      ]
     },
     "execution_count": 26,
     "metadata": {},
     "output_type": "execute_result"
    }
   ],
   "source": [
    "pd.read_csv('data/grades.csv')"
   ]
  }
 ],
 "metadata": {
  "kernelspec": {
   "display_name": "Python 3 (ipykernel)",
   "language": "python",
   "name": "python3"
  },
  "language_info": {
   "codemirror_mode": {
    "name": "ipython",
    "version": 3
   },
   "file_extension": ".py",
   "mimetype": "text/x-python",
   "name": "python",
   "nbconvert_exporter": "python",
   "pygments_lexer": "ipython3",
   "version": "3.12.1"
  }
 },
 "nbformat": 4,
 "nbformat_minor": 4
}
