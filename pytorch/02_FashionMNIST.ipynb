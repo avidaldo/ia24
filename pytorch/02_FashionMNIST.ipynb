{
 "cells": [
  {
   "cell_type": "markdown",
   "metadata": {},
   "source": [
    "# Clasificación de imágenes con PyTorch"
   ]
  },
  {
   "cell_type": "markdown",
   "metadata": {},
   "source": [
    "Versión de: https://pytorch.org/tutorials/beginner/basics/quickstart_tutorial.html"
   ]
  },
  {
   "cell_type": "markdown",
   "metadata": {},
   "source": [
    "## Cargando los datos"
   ]
  },
  {
   "cell_type": "markdown",
   "metadata": {},
   "source": [
    "\n",
    "\n",
    "PyTorch cuenta con las librerías [TorchText](https://pytorch.org/text/stable/index.html), [TorchVision](https://pytorch.org/vision/stable/index.html), y [TorchAudio](https://pytorch.org/audio/stable/index.html) para cargar y manipular datos. En este caso, usaremos TorchVision para cargar el dataset [FashionMNIST](https://github.com/zalandoresearch/fashion-mnist).\n",
    "\n",
    "FAshionMNIST es un dataset de ropa que contiene 60,000 imágenes de entrenamiento y 10,000 imágenes de prueba. Cada imagen es de 28x28 píxeles y pertenece a una de las [10 clases de ropa](https://github.com/zalandoresearch/fashion-mnist?tab=readme-ov-file#labels). Funciona como un reemplazo directo para el dataset MNIST, que es más comúnmente usado para probar algoritmos de aprendizaje automático.\n",
    "\n",
    "Estos conjuntos de datos son subclases de `torch.utils.data.Dataset`. Cada [`Dataset` de TorchVision](https://pytorch.org/vision/stable/datasets.html) incluye dos argumentos: `transform` y `target_transform` para modificar las muestras y las etiquetas respectivamente.\n",
    "\n",
    "Las imágenes se descarga en formato PIL (Python Imaging Library) y son convertidas a tensores de PyTorch con la transformación `transforms.ToTensor()`. Tras esto, cada conjunto de datos contará en su atributo `data` con un tensor de tamaño `(n, 28, 28)` donde `n` es el número de imágenes y cada imagen es de 28x28 pixeles. En el atributo `targets` se encuentran las etiquetas de las imágenes."
   ]
  },
  {
   "cell_type": "code",
   "execution_count": 15,
   "metadata": {},
   "outputs": [],
   "source": [
    "from torchvision import datasets\n",
    "from torchvision.transforms import ToTensor\n",
    "\n",
    "training_data = datasets.FashionMNIST( # Construye un objeto FashionMNIST (subclase de torch.utils.data.Dataset)\n",
    "    root=\"data\", # directorio donde se almacenan los datos\n",
    "    train=True, # carga el conjunto de entrenamiento\n",
    "    download=True,  # descarga el conjunto de datos si no está en el directorio de datos\n",
    "    transform=ToTensor(), # ToTensor convierte la imagen en un tensor de PyTorch\n",
    ")\n",
    "\n",
    "test_data = datasets.FashionMNIST(\n",
    "    root=\"data\",\n",
    "    train=False,\n",
    "    download=True,\n",
    "    transform=ToTensor(),\n",
    ")"
   ]
  },
  {
   "cell_type": "code",
   "execution_count": 16,
   "metadata": {},
   "outputs": [
    {
     "data": {
      "text/plain": [
       "Dataset FashionMNIST\n",
       "    Number of datapoints: 60000\n",
       "    Root location: data\n",
       "    Split: Train\n",
       "    StandardTransform\n",
       "Transform: ToTensor()"
      ]
     },
     "execution_count": 16,
     "metadata": {},
     "output_type": "execute_result"
    }
   ],
   "source": [
    "training_data"
   ]
  },
  {
   "cell_type": "code",
   "execution_count": 17,
   "metadata": {},
   "outputs": [
    {
     "data": {
      "text/plain": [
       "torch.Size([60000, 28, 28])"
      ]
     },
     "execution_count": 17,
     "metadata": {},
     "output_type": "execute_result"
    }
   ],
   "source": [
    "training_data.data.shape"
   ]
  },
  {
   "cell_type": "code",
   "execution_count": 18,
   "metadata": {},
   "outputs": [
    {
     "data": {
      "text/plain": [
       "tensor([9, 0, 0,  ..., 3, 0, 5])"
      ]
     },
     "execution_count": 18,
     "metadata": {},
     "output_type": "execute_result"
    }
   ],
   "source": [
    "training_data.targets"
   ]
  },
  {
   "cell_type": "markdown",
   "metadata": {},
   "source": [
    "El `Dataset` se pasa como argumento a `DataLoader`, una clase que envuelve el dataset haciéndolo iterable, y que añade los procesos de *batching* (creación de lotes), *sampling* (muestreo), *shuffling* (mezcla) y carga automática de datos en múltiples procesos. Aquí definimos un tamaño de *batch* de 64, es decir, cada elemento en el iterable del dataloader devolverá un *batch* de 64 características y etiquetas.\n",
    "\n",
    "Un *batch* es un lote de muestras que se procesan en cada iteración del entrenamiento. En cada iteración, el modelo recibe un *batch* de muestras, calcula las predicciones y la función de pérdida (***loss function***), y actualiza los pesos del modelo haciendo ***backpropagation*** para minimizar la pérdida. Típicamente, se usan tamños de batch de 64, 128, 256 o 512 (potencias de 2 para que el tamaño del batch se ajuste a la memoria de la GPU y se procese de manera eficiente)."
   ]
  },
  {
   "cell_type": "code",
   "execution_count": 19,
   "metadata": {
    "collapsed": false
   },
   "outputs": [
    {
     "name": "stdout",
     "output_type": "stream",
     "text": [
      "Shape of X [N(number os samples), C(color_channels), H(height), W(width)]: torch.Size([64, 1, 28, 28])\n",
      "Shape of y: torch.Size([64]) torch.int64\n"
     ]
    }
   ],
   "source": [
    "import torch\n",
    "from torch.utils.data import DataLoader\n",
    "\n",
    "batch_size = 64\n",
    "\n",
    "train_dataloader = DataLoader(training_data, batch_size=batch_size)\n",
    "test_dataloader = DataLoader(test_data, batch_size=batch_size)\n",
    "\n",
    "for X, y in test_dataloader:\n",
    "    print(f\"Shape of X [N(number os samples), C(color_channels), H(height), W(width)]: {X.shape}\")\n",
    "    print(f\"Shape of y: {y.shape} {y.dtype}\")\n",
    "    break"
   ]
  },
  {
   "cell_type": "markdown",
   "metadata": {},
   "source": [
    "## Definición de la red neuronal"
   ]
  },
  {
   "cell_type": "markdown",
   "metadata": {},
   "source": [
    "El paquete `torch.nn` contiene las herramientas necesarias para definir redes neuronales en PyTorch. En particular, cualquier red neuronal que queramos definir debe ser una clase que herede de [`nn.Module`](https://pytorch.org/docs/stable/generated/torch.nn.Module.html).\n",
    "\n",
    "Toda clase que herede de `torch.nn.Module` debe implementar dos métodos:\n",
    "- `__init__`: Constructor de la clase. Aquí se definen las capas de la red.\n",
    "- `forward`: Método que define cómo se calcula la salida de la red a partir de la entrada."
   ]
  },
  {
   "cell_type": "code",
   "execution_count": 20,
   "metadata": {
    "collapsed": false
   },
   "outputs": [],
   "source": [
    "import torch.nn as nn\n",
    "\n",
    "class NeuralNetwork(nn.Module): # Clase que hereda de nn.Module y define la arquitectura de la red\n",
    "    def __init__(self): # Constructor de la clase\n",
    "        super().__init__() # Llama al constructor de la clase padre\n",
    "        self.flatten = nn.Flatten() # Capa de aplanamiento de la imagen (28x28 -> 784)\n",
    "        self.linear_relu_stack = nn.Sequential( # Secuencia de capas lineales y funciones de activación ReLU\n",
    "            nn.Linear(28*28, 512), # Capa de entrada con 784 entradas y 512 salidas\n",
    "            nn.ReLU(), # Función de activación ReLU después de la capa de entrada\n",
    "            nn.Linear(512, 512), # Capa oculta totalmente conectada con 512 entradas y 512 salidas\n",
    "            nn.ReLU(), # Función de activación ReLU después de la capa oculta\n",
    "            nn.Linear(512, 10) # Capa de salida con 512 entradas y 10 salidas\n",
    "        )\n",
    "\n",
    "    def forward(self, x): # Método que define el flujo de datos a través de la red\n",
    "        x = self.flatten(x) # Aplana la imagen\n",
    "        logits = self.linear_relu_stack(x) # Pasa los datos a través de la secuencia de capas\n",
    "        return logits # Devuelve los logits (salida sin activación)\n",
    "    \n",
    "model = NeuralNetwork() # Instancia del modelo"
   ]
  },
  {
   "cell_type": "markdown",
   "metadata": {},
   "source": [
    "La capa de entrada tendrá necesariamente 784 neuronas, una por cada pixel de la imagen de entrada (recordemos que las imágenes de MNIST son de 28x28 píxeles). Para pasar los tensores de imágenes de 28x28 píxeles a un tensor de 784 píxeles, usamos la capa `Flatten`, que solo cambia la forma de los datos.\n",
    "\n",
    "La capa de salida tendrá 10 neuronas, una por cada posible dígito al que puede corresponder la imagen de entrada.\n",
    "\n",
    "Definimos en medio dos **capas ocultas (*hidden layers*)** de 512 neuronas cada una. La función de activación de las capas ocultas (para cada una de sus neuronas) es la función **ReLU** (la más común en redes neuronales).\n",
    "\n",
    "`Sequential` es un contenedor que apila módulos en el orden en que se pasan a la clase. Cada módulo se aplica a la salida del módulo anterior. En este caso, `Sequential` define la secuencia de capas de la red neuronal.\n",
    "\n",
    "`Linear` define una capa de red neuronal completamente conectada (también conocida como capa densa). Cada neurona de una capa está conectada a todas las neuronas de la capa anterior. La capa `Linear` requiere dos argumentos: el número de neuronas de entrada y el número de neuronas de salida.\n",
    "\n",
    "\n",
    "En cada ejecución de `forward`, primero se pasa la entrada a través de la capa `Flatten` para convertir la imagen de 28x28 píxeles en un tensor de 784 píxeles. Luego, la entrada se pasa a través de las capas ocultas, y se aplica la función de activación `ReLU` después de cada capa oculta. Finalmente, la salida de la última capa oculta se pasa a través de la capa de salida, que devuelve un tensor de 10 *logits*. Los *logits* son valores que no han sido normalizados y que se utilizan para calcular las probabilidades de cada clase."
   ]
  },
  {
   "cell_type": "markdown",
   "metadata": {},
   "source": [
    "Para acelerar el entrenamiento, PyTorch puede aprovechar la GPU si está disponible. Para ello, se debe mover el modelo y los datos a la GPU con el método `to`."
   ]
  },
  {
   "cell_type": "code",
   "execution_count": 21,
   "metadata": {},
   "outputs": [
    {
     "name": "stdout",
     "output_type": "stream",
     "text": [
      "Using cpu device\n",
      "NeuralNetwork(\n",
      "  (flatten): Flatten(start_dim=1, end_dim=-1)\n",
      "  (linear_relu_stack): Sequential(\n",
      "    (0): Linear(in_features=784, out_features=512, bias=True)\n",
      "    (1): ReLU()\n",
      "    (2): Linear(in_features=512, out_features=512, bias=True)\n",
      "    (3): ReLU()\n",
      "    (4): Linear(in_features=512, out_features=10, bias=True)\n",
      "  )\n",
      ")\n"
     ]
    }
   ],
   "source": [
    "device = (\n",
    "    \"cuda\" if torch.cuda.is_available() \n",
    "    else \"mps\" if torch.backends.mps.is_available()\n",
    "    else \"cpu\" \n",
    ")\n",
    "print(f\"Using {device} device\")\n",
    "\n",
    "model = model.to(device) # Mueve el modelo a la GPU si está disponible\n",
    "print(model)"
   ]
  },
  {
   "cell_type": "markdown",
   "metadata": {},
   "source": [
    "## Optimización y entrenamiento"
   ]
  },
  {
   "cell_type": "markdown",
   "metadata": {},
   "source": [
    "Para optimizar los parámetros del modelo, necesitamos una [**función de pérdida**](https://pytorch.org/docs/stable/nn.html#loss-functions) y un [optimizador](https://pytorch.org/docs/stable/optim.html).\n",
    "\n",
    "Definimos la función de pérdida `nn.CrossEntropyLoss`, que se utiliza comúnmente en problemas de clasificación. Esta función calcula la pérdida de entropía cruzada entre las predicciones y las etiquetas reales. La entropía cruzada es una medida de la diferencia entre dos distribuciones de probabilidad.\n",
    "\n",
    "Definimos el optimizador `optim.SGD` (descenso de gradiente estocástico) con una tasa de aprendizaje (***learning rate***) de 0.1. El optimizador ajusta los pesos del modelo en función de la pérdida calculada."
   ]
  },
  {
   "cell_type": "code",
   "execution_count": 22,
   "metadata": {
    "collapsed": false
   },
   "outputs": [],
   "source": [
    "loss_fn = nn.CrossEntropyLoss() # Función de pérdida\n",
    "optimizer = torch.optim.SGD( # Optimizador de descenso de gradiente estocástico\n",
    "    model.parameters(), # Parámetros del modelo a optimizar\n",
    "    lr=1e-3 # Tasa de aprendizaje\n",
    "    )"
   ]
  },
  {
   "cell_type": "markdown",
   "metadata": {},
   "source": [
    "Definimos la función `train` que realiza un paso de entrenamiento (una iteración) y la función `test` que evalúa el modelo en el conjunto de prueba.\n",
    "\n",
    "En cada iteración del bucle de entrenamiento, el modelo hace predicciones sobre el conjunto de entrenamiento (alimentado en lotes), y retropropaga el error de predicción para ajustar los parámetros del modelo.\n",
    "\n"
   ]
  },
  {
   "cell_type": "code",
   "execution_count": 23,
   "metadata": {
    "collapsed": false
   },
   "outputs": [],
   "source": [
    "def train(dataloader, model, loss_fn, optimizer):\n",
    "    \n",
    "    size = len(dataloader.dataset) # Número de muestras en el conjunto de datos\n",
    "    \n",
    "    model.train() # Pone el modelo en modo de entrenamiento\n",
    "    for batch_num, (X, y) in enumerate(dataloader): # Itera sobre los lotes de datos, para cada uno:\n",
    "        X, y = X.to(device), y.to(device) # Mueve el array de datos y las etiquetas al dispositivo\n",
    "\n",
    "        pred = model(X) # Genera predicciones\n",
    "        loss = loss_fn(pred, y) # Calcula la pérdida para ese lote\n",
    "\n",
    "        # Backpropagation\n",
    "        optimizer.zero_grad() # Resetea los gradientes\n",
    "        loss.backward() # Calcula el gradiente de la función de pérdida\n",
    "        optimizer.step() # Actualiza los parámetros\n",
    "\n",
    "        if batch_num % 100 == 0: # Cada 100 lotes imprime el progreso\n",
    "            loss, current = loss.item(), (batch_num + 1) * len(X)\n",
    "            print(f\"loss: {loss:>7f}  [{current:>5d}/{size:>5d}]\")"
   ]
  },
  {
   "cell_type": "markdown",
   "metadata": {},
   "source": [
    "Definimos también una función que evalúa el modelo en el conjunto de prueba.\n"
   ]
  },
  {
   "cell_type": "code",
   "execution_count": 24,
   "metadata": {
    "collapsed": false
   },
   "outputs": [],
   "source": [
    "def test(dataloader, model, loss_fn):\n",
    "    size = len(dataloader.dataset)\n",
    "    num_batches = len(dataloader)\n",
    "    model.eval() # Pone el modelo en modo de evaluación\n",
    "    test_loss, correct = 0, 0\n",
    "    with torch.no_grad(): # Desactiva el cálculo de gradientes para el siguiente bloque de código\n",
    "        for X, y in dataloader:\n",
    "            X, y = X.to(device), y.to(device)\n",
    "            pred = model(X)\n",
    "            test_loss += loss_fn(pred, y).item() # Acumula la pérdida\n",
    "            correct += (pred.argmax(1) == y).type(torch.float).sum().item() # Acumula el número de aciertos [1]\n",
    "    test_loss /= num_batches # Calcula la pérdida promedio por lote\n",
    "    correct /= size # Calcula la exactitud (número de aciertos / número total de muestras)\n",
    "    print(f\"Test Error: \\n Accuracy: {(100*correct):>0.1f}%, Avg loss: {test_loss:>8f} \\n\")"
   ]
  },
  {
   "cell_type": "markdown",
   "metadata": {},
   "source": [
    "> [1]: `pred` es un tensor de forma `(batch_size, 10)` con los *logits* de cada clase. Con `pred.argmax(1)`, encontramos el índice con el valor más alto en cada fila (eje 1: columnas), o lo que es lo mismo: la clase con la probabilidad más alta para cada imagen. Comparamos las predicciones con las etiquetas reales (`(pred.argmax(1) == y)`) devolviendo un array de booleanos y lo sumamos con `sum()` para obtener el número de predicciones correctas. Para sumarlos, antes convertimos los booleanos a floats (no se usa 'int' por compatibilidad con funciones de PyTorch). El resultado es un tensor con un solo valor que contiene el número total de predicciones correctas en el *batch*; usamos `.item()` para obtener el valor numérico contenido en ese tensor."
   ]
  },
  {
   "cell_type": "markdown",
   "metadata": {},
   "source": [
    "El proceso de entrenamiento se realiza a través de varias iteraciones (*epochs*). Una ***epoch*** es una pasada completa a través de todo el conjunto de datos de entrenamiento. Cada *epoch* se divide en lotes, y el modelo se entrena en cada lote. Después de cada *epoch*, evaluamos el modelo en el conjunto de test."
   ]
  },
  {
   "cell_type": "code",
   "execution_count": 25,
   "metadata": {
    "collapsed": false
   },
   "outputs": [
    {
     "name": "stdout",
     "output_type": "stream",
     "text": [
      "Epoch 1\n",
      "-------------------------------\n",
      "loss: 2.296675  [   64/60000]\n",
      "loss: 2.285007  [ 6464/60000]\n",
      "loss: 2.276933  [12864/60000]\n",
      "loss: 2.279354  [19264/60000]\n",
      "loss: 2.246817  [25664/60000]\n",
      "loss: 2.235992  [32064/60000]\n",
      "loss: 2.227888  [38464/60000]\n",
      "loss: 2.200504  [44864/60000]\n",
      "loss: 2.200959  [51264/60000]\n",
      "loss: 2.163178  [57664/60000]\n",
      "Test Error: \n",
      " Accuracy: 47.6%, Avg loss: 2.161358 \n",
      "\n",
      "Epoch 2\n",
      "-------------------------------\n",
      "loss: 2.169079  [   64/60000]\n",
      "loss: 2.160387  [ 6464/60000]\n",
      "loss: 2.113388  [12864/60000]\n",
      "loss: 2.132330  [19264/60000]\n",
      "loss: 2.070479  [25664/60000]\n",
      "loss: 2.016776  [32064/60000]\n",
      "loss: 2.039479  [38464/60000]\n",
      "loss: 1.965629  [44864/60000]\n",
      "loss: 1.975360  [51264/60000]\n",
      "loss: 1.888051  [57664/60000]\n",
      "Test Error: \n",
      " Accuracy: 56.4%, Avg loss: 1.898275 \n",
      "\n",
      "Epoch 3\n",
      "-------------------------------\n",
      "loss: 1.933173  [   64/60000]\n",
      "loss: 1.899897  [ 6464/60000]\n",
      "loss: 1.795180  [12864/60000]\n",
      "loss: 1.836547  [19264/60000]\n",
      "loss: 1.714739  [25664/60000]\n",
      "loss: 1.669404  [32064/60000]\n",
      "loss: 1.688325  [38464/60000]\n",
      "loss: 1.591600  [44864/60000]\n",
      "loss: 1.619224  [51264/60000]\n",
      "loss: 1.500308  [57664/60000]\n",
      "Test Error: \n",
      " Accuracy: 61.6%, Avg loss: 1.528922 \n",
      "\n",
      "Epoch 4\n",
      "-------------------------------\n",
      "loss: 1.594965  [   64/60000]\n",
      "loss: 1.554950  [ 6464/60000]\n",
      "loss: 1.413893  [12864/60000]\n",
      "loss: 1.487038  [19264/60000]\n",
      "loss: 1.359888  [25664/60000]\n",
      "loss: 1.358405  [32064/60000]\n",
      "loss: 1.366721  [38464/60000]\n",
      "loss: 1.292767  [44864/60000]\n",
      "loss: 1.327342  [51264/60000]\n",
      "loss: 1.221926  [57664/60000]\n",
      "Test Error: \n",
      " Accuracy: 63.8%, Avg loss: 1.253781 \n",
      "\n",
      "Epoch 5\n",
      "-------------------------------\n",
      "loss: 1.326259  [   64/60000]\n",
      "loss: 1.306471  [ 6464/60000]\n",
      "loss: 1.146639  [12864/60000]\n",
      "loss: 1.256218  [19264/60000]\n",
      "loss: 1.125506  [25664/60000]\n",
      "loss: 1.153687  [32064/60000]\n",
      "loss: 1.166122  [38464/60000]\n",
      "loss: 1.106670  [44864/60000]\n",
      "loss: 1.144202  [51264/60000]\n",
      "loss: 1.058393  [57664/60000]\n",
      "Test Error: \n",
      " Accuracy: 65.0%, Avg loss: 1.083494 \n",
      "\n",
      "Epoch 6\n",
      "-------------------------------\n",
      "loss: 1.148240  [   64/60000]\n",
      "loss: 1.150264  [ 6464/60000]\n",
      "loss: 0.972875  [12864/60000]\n",
      "loss: 1.113809  [19264/60000]\n",
      "loss: 0.982500  [25664/60000]\n",
      "loss: 1.018108  [32064/60000]\n",
      "loss: 1.043792  [38464/60000]\n",
      "loss: 0.989754  [44864/60000]\n",
      "loss: 1.026065  [51264/60000]\n",
      "loss: 0.957254  [57664/60000]\n",
      "Test Error: \n",
      " Accuracy: 66.3%, Avg loss: 0.975231 \n",
      "\n",
      "Epoch 7\n",
      "-------------------------------\n",
      "loss: 1.026552  [   64/60000]\n",
      "loss: 1.050746  [ 6464/60000]\n",
      "loss: 0.856003  [12864/60000]\n",
      "loss: 1.020395  [19264/60000]\n",
      "loss: 0.893892  [25664/60000]\n",
      "loss: 0.924512  [32064/60000]\n",
      "loss: 0.965738  [38464/60000]\n",
      "loss: 0.914798  [44864/60000]\n",
      "loss: 0.945437  [51264/60000]\n",
      "loss: 0.890500  [57664/60000]\n",
      "Test Error: \n",
      " Accuracy: 67.3%, Avg loss: 0.902548 \n",
      "\n",
      "Epoch 8\n",
      "-------------------------------\n",
      "loss: 0.938872  [   64/60000]\n",
      "loss: 0.982769  [ 6464/60000]\n",
      "loss: 0.773880  [12864/60000]\n",
      "loss: 0.955073  [19264/60000]\n",
      "loss: 0.835719  [25664/60000]\n",
      "loss: 0.857315  [32064/60000]\n",
      "loss: 0.911854  [38464/60000]\n",
      "loss: 0.865376  [44864/60000]\n",
      "loss: 0.887930  [51264/60000]\n",
      "loss: 0.843159  [57664/60000]\n",
      "Test Error: \n",
      " Accuracy: 68.7%, Avg loss: 0.850886 \n",
      "\n",
      "Epoch 9\n",
      "-------------------------------\n",
      "loss: 0.872584  [   64/60000]\n",
      "loss: 0.932674  [ 6464/60000]\n",
      "loss: 0.713495  [12864/60000]\n",
      "loss: 0.906964  [19264/60000]\n",
      "loss: 0.794720  [25664/60000]\n",
      "loss: 0.807646  [32064/60000]\n",
      "loss: 0.871717  [38464/60000]\n",
      "loss: 0.831342  [44864/60000]\n",
      "loss: 0.845211  [51264/60000]\n",
      "loss: 0.807378  [57664/60000]\n",
      "Test Error: \n",
      " Accuracy: 69.9%, Avg loss: 0.812072 \n",
      "\n",
      "Epoch 10\n",
      "-------------------------------\n",
      "loss: 0.820269  [   64/60000]\n",
      "loss: 0.892890  [ 6464/60000]\n",
      "loss: 0.666933  [12864/60000]\n",
      "loss: 0.869999  [19264/60000]\n",
      "loss: 0.763780  [25664/60000]\n",
      "loss: 0.769836  [32064/60000]\n",
      "loss: 0.839265  [38464/60000]\n",
      "loss: 0.806392  [44864/60000]\n",
      "loss: 0.812274  [51264/60000]\n",
      "loss: 0.778712  [57664/60000]\n",
      "Test Error: \n",
      " Accuracy: 71.1%, Avg loss: 0.781359 \n",
      "\n",
      "Done!\n"
     ]
    }
   ],
   "source": [
    "epochs = 10 # Número de epochs\n",
    "for t in range(epochs):\n",
    "    print(f\"Epoch {t+1}\\n-------------------------------\")\n",
    "    train(train_dataloader, model, loss_fn, optimizer)\n",
    "    test(test_dataloader, model, loss_fn)\n",
    "print(\"Done!\")\n",
    "\n",
    "# Accuracy: 71.1%, Avg loss: 0.783695"
   ]
  },
  {
   "cell_type": "markdown",
   "metadata": {},
   "source": [
    "## Guardando y cargando el modelo entrenado"
   ]
  },
  {
   "cell_type": "markdown",
   "metadata": {},
   "source": [
    "El entrenamiento de un modelo puede llevar mucho tiempo. Una vez un modelo está entrenado puede guardarse para moverlo a otro dispositivo, reutilizarlo, o continuar el entrenamiento más tarde.\n",
    "\n",
    "Normalmente, se guarda un modelo entrenado en un archivo como un diccionario de Python, que contiene todos los parámetros y metadatos necesarios para reanudar el entrenamiento y hacer predicciones.\n",
    "\n",
    "PyTorch tiene dos formas de guardar modelos: el método `save` y el método `load`. El método `save` guarda un modelo en un archivo, mientras que el método `load` carga un modelo de un archivo."
   ]
  },
  {
   "cell_type": "code",
   "execution_count": 26,
   "metadata": {
    "collapsed": false
   },
   "outputs": [
    {
     "name": "stdout",
     "output_type": "stream",
     "text": [
      "Saved PyTorch Model State to model.pth\n"
     ]
    }
   ],
   "source": [
    "torch.save(model.state_dict(), \"model.pth\")\n",
    "print(\"Saved PyTorch Model State to model.pth\")"
   ]
  },
  {
   "cell_type": "markdown",
   "metadata": {},
   "source": [
    "Para cargar un modelo guardado, primero se crea una instancia de la clase del modelo y luego se llama al método `load_state_dict` para cargar los parámetros (pesos y sesgos de cada neurona) desde el fichero."
   ]
  },
  {
   "cell_type": "code",
   "execution_count": 27,
   "metadata": {
    "collapsed": false
   },
   "outputs": [
    {
     "data": {
      "text/plain": [
       "<All keys matched successfully>"
      ]
     },
     "execution_count": 27,
     "metadata": {},
     "output_type": "execute_result"
    }
   ],
   "source": [
    "model = NeuralNetwork().to(device) # Creamos una instancia del modelo (con su arquitectura) y la movemos al dispositivo\n",
    "model.load_state_dict(torch.load(\"model.pth\")) # Cargamos los parámetros guardados del modelo"
   ]
  },
  {
   "cell_type": "markdown",
   "metadata": {},
   "source": [
    "## Usando el modelo para hacer predicciones"
   ]
  },
  {
   "cell_type": "code",
   "execution_count": 28,
   "metadata": {
    "collapsed": false
   },
   "outputs": [
    {
     "name": "stdout",
     "output_type": "stream",
     "text": [
      "Predicted: \"Ankle boot\", Actual: \"Ankle boot\"\n"
     ]
    }
   ],
   "source": [
    "classes = [ # Clases de FashionMNIST\n",
    "    \"T-shirt/top\",\n",
    "    \"Trouser\",\n",
    "    \"Pullover\",\n",
    "    \"Dress\",\n",
    "    \"Coat\",\n",
    "    \"Sandal\",\n",
    "    \"Shirt\",\n",
    "    \"Sneaker\",\n",
    "    \"Bag\",\n",
    "    \"Ankle boot\",\n",
    "]\n",
    "\n",
    "model.eval() # Establece el modelo en modo de evaluación\n",
    "x, y = test_data[0][0], test_data[0][1] # Obtiene una imagen de prueba y su etiqueta\n",
    "with torch.no_grad(): # Deshabilita el cálculo de gradientes\n",
    "    x = x.to(device) # Movemos la imagen al dispositivo\n",
    "    pred = model(x) # Obtenemos las predicciones\n",
    "    predicted, actual = classes[pred[0].argmax(0)], classes[y] # Obtenemos la clase predicha y la clase real\n",
    "    print(f'Predicted: \"{predicted}\", Actual: \"{actual}\"')"
   ]
  }
 ],
 "metadata": {
  "kernelspec": {
   "display_name": "Python 3",
   "language": "python",
   "name": "python3"
  },
  "language_info": {
   "codemirror_mode": {
    "name": "ipython",
    "version": 3
   },
   "file_extension": ".py",
   "mimetype": "text/x-python",
   "name": "python",
   "nbconvert_exporter": "python",
   "pygments_lexer": "ipython3",
   "version": "3.12.1"
  }
 },
 "nbformat": 4,
 "nbformat_minor": 0
}
