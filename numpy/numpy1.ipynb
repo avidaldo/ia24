{
 "cells": [
  {
   "cell_type": "markdown",
   "metadata": {},
   "source": [
    "# NumPy"
   ]
  },
  {
   "cell_type": "markdown",
   "metadata": {},
   "source": [
    "## Introducción"
   ]
  },
  {
   "cell_type": "markdown",
   "metadata": {},
   "source": [
    "\n",
    "**NumPy** es una librería de Python que proporciona funciones para trabajar con arrays de 1 (vectores), 2 (matrices) y n dimensiones.\n",
    "\n",
    "NumPy tiene un funcionamiento parecido a las listas de Python, pero con la diferencia de que sus arrays son homogéneos (todos los elementos son del mismo tipo) y tienen un tamaño fijo (no se pueden modificar una vez creados).\n",
    "\n",
    "Los arrays de NumPy son más eficientes que las listas de Python, ya que están implementados en C++ y se ejecutan más rápido. Utiliza mucha menos memoria y permite especificar el tipo de datos que contiene el array.\n",
    "\n",
    "Es una de las librerías más utilizadas en el ámbito de la ciencia de datos y el machine learning. Muchas otras lo usan como base (es por tanto una **dependencia** de ellas): **pandas, Matplotlib, Seaborn, scikit-learn, TensorFlow, PyTorch, Keras**...\n",
    "\n",
    "### Fuentes:\n",
    "\n",
    "- [Documentación oficial de NumPy](https://numpy.org/doc/stable/index.html)\n",
    "- [Tutorial para aprender NumPy desde cero](https://numpy.org/doc/stable/user/absolute_beginners.html) (la mayoría de imágenes referencian esta guía)"
   ]
  },
  {
   "cell_type": "markdown",
   "metadata": {},
   "source": [
    "## Instalación e importación de NumPy"
   ]
  },
  {
   "cell_type": "markdown",
   "metadata": {},
   "source": [
    "Para poder importar el modulo de NumPy es necesario primero tenerlo instalado en nuestro ***environment***.\n",
    "\n",
    "Dependiendo de qué gestor de paquetes estemos utilizando se puede instalar con pip:\n",
    "\n",
    "```bash\n",
    "pip install numpy\n",
    "```\n",
    "\n",
    "o con Conda (Anaconda o Miniconda):\n",
    "\n",
    "```bash\n",
    "conda install numpy\n",
    "```\n",
    "\n",
    "El alias \"**np**\" es prácticamente un estándar *de facto*. No es necesario pero lo encontraremos en la mayoría de los ejemplos y documentación."
   ]
  },
  {
   "cell_type": "code",
   "execution_count": 2,
   "metadata": {},
   "outputs": [],
   "source": [
    "import numpy as np"
   ]
  },
  {
   "cell_type": "markdown",
   "metadata": {},
   "source": [
    "## Creación de arrays partir de listas"
   ]
  },
  {
   "cell_type": "code",
   "execution_count": 3,
   "metadata": {},
   "outputs": [
    {
     "name": "stdout",
     "output_type": "stream",
     "text": [
      "[1, 2, 3, 4, 5, 6]\n",
      "<class 'list'>\n",
      "[1 2 3 4 5 6]\n",
      "<class 'numpy.ndarray'>\n"
     ]
    },
    {
     "data": {
      "text/plain": [
       "array([1, 2, 3, 4, 5, 6])"
      ]
     },
     "execution_count": 3,
     "metadata": {},
     "output_type": "execute_result"
    }
   ],
   "source": [
    "# Creación de una lista de python\n",
    "python_list_1D=[1, 2, 3, 4, 5, 6]\n",
    "print(python_list_1D)\n",
    "print(type(python_list_1D))\n",
    "\n",
    "# Creación de un vector (ndarray de 1D) a partir de la lista\n",
    "numpy_darray_1D = np.array(python_list_1D)\n",
    "print(numpy_darray_1D)\n",
    "print(type(numpy_darray_1D)) # El tipo de las variables de NumPy es numpy.ndarray\n",
    "\n",
    "numpy_darray_1D # Los notebooks permiten mostrar el contenido de la variable sin necesidad de usar print"
   ]
  },
  {
   "cell_type": "markdown",
   "metadata": {},
   "source": [
    "[<img src=\"https://numpy.org/doc/stable/_images/np_create_matrix.png\" width=\"700\">](https://numpy.org/doc/stable/user/absolute_beginners.html#creating-matrices)"
   ]
  },
  {
   "cell_type": "code",
   "execution_count": 4,
   "metadata": {},
   "outputs": [
    {
     "name": "stdout",
     "output_type": "stream",
     "text": [
      "[[1, 2, 3], [4, 5, 6]]\n",
      "<class 'list'>\n",
      "[[1 2 3]\n",
      " [4 5 6]]\n",
      "<class 'numpy.ndarray'>\n"
     ]
    },
    {
     "data": {
      "text/plain": [
       "array([[1, 2, 3],\n",
       "       [4, 5, 6]])"
      ]
     },
     "execution_count": 4,
     "metadata": {},
     "output_type": "execute_result"
    }
   ],
   "source": [
    "python_list_2D=[[1, 2, 3], [4, 5, 6]] # Lista de listas (2D) de python\n",
    "print(python_list_2D)\n",
    "print(type(python_list_2D))\n",
    "\n",
    "numpy_darray_2D = np.array(python_list_2D) # Creación de un ndarray de 2D\n",
    "print(numpy_darray_2D)\n",
    "print(type(numpy_darray_2D))\n",
    "numpy_darray_2D"
   ]
  },
  {
   "cell_type": "code",
   "execution_count": 5,
   "metadata": {},
   "outputs": [
    {
     "name": "stdout",
     "output_type": "stream",
     "text": [
      "2\n",
      "(2, 3)\n",
      "6\n",
      "int32\n"
     ]
    }
   ],
   "source": [
    "numpy_darray_2D = np.array([[1, 2, 3], [4, 5, 6]])\n",
    "\n",
    "### Propiedades de variables de NumPy:\n",
    "print(numpy_darray_2D.ndim) # dimensiones de la matriz\n",
    "print(numpy_darray_2D.shape) # forma de la matriz (número de elementos por dimensión o eje (axis))\n",
    "print(numpy_darray_2D.size) # número total de elementos\n",
    "print(numpy_darray_2D.dtype) # tipo de los elementos de la matriz"
   ]
  },
  {
   "cell_type": "markdown",
   "metadata": {},
   "source": [
    "## Tipos de datos para los elementos de un array"
   ]
  },
  {
   "cell_type": "markdown",
   "metadata": {},
   "source": [
    "Los objectos de tipo array de NumPy son siempre de tipo ndarray ([*N-dimensional array*](https://numpy.org/doc/stable/reference/arrays.ndarray.html)). El tipo de sus elementos está especificado por su dtype ([*data type*](https://numpy.org/doc/stable/reference/arrays.dtypes.html#arrays-dtypes)).\n",
    "Los ndarray son siempre homogéneos, es decir, todos sus elementos son del mismo tipo."
   ]
  },
  {
   "cell_type": "code",
   "execution_count": 6,
   "metadata": {},
   "outputs": [
    {
     "name": "stdout",
     "output_type": "stream",
     "text": [
      "[[1 2 3]\n",
      " [4 5 6]]\n",
      "int32\n",
      "[[1. 2. 3.]\n",
      " [4. 5. 6.]]\n",
      "float64\n"
     ]
    }
   ],
   "source": [
    "# Si no especificamos el tipo de los elementos, NumPy lo infiere del argumento\n",
    "lista = [[1, 2, 3], [4, 5, 6]]\n",
    "a = np.array(lista)\n",
    "print(a)\n",
    "print(a.dtype)\n",
    "\n",
    "# Podemos crear un ndarray de NumPy con elementos de un tipo específico\n",
    "b = np.array(lista, dtype=np.float64) # float de 64 bit\n",
    "# Aunque pasamos una lista con ints, con el parámetro dtype podemos indicar que queremos que los elementos sean floats, así que los convierte. Podemos verlo al mostrarlo con print por el punto decimal.a\n",
    "print(b)\n",
    "print(b.dtype)"
   ]
  },
  {
   "cell_type": "code",
   "execution_count": 7,
   "metadata": {},
   "outputs": [
    {
     "name": "stdout",
     "output_type": "stream",
     "text": [
      "[['Antonio' 'Bea' 'Carlos' 'Diana']\n",
      " ['65' '78' '90' '81']\n",
      " ['71' '82' '79' '92']]\n",
      "<U11\n"
     ]
    }
   ],
   "source": [
    "# Supongamos que utilizamos un array como el siguiente para almacenar las notas de 2 exámenes de un listado de clase:\n",
    "alumnos_y_notas = np.array([['Antonio','Bea','Carlos','Diana'],\n",
    "                            [65,78,90,81],\n",
    "                            [71,82,79,92]]) # ¿Ves algo mejorable en esta estructura de datos?\n",
    "\n",
    "# Los elementos dentro de un array de NumPy deben ser del mismo tipo. Si pasamos una lista con elementos de diferentes tipos, NumPy los convierte todos al mismo tipo. En este caso, al ser strings, los convierte todos a strings.\n",
    "print(alumnos_y_notas)\n",
    "print(alumnos_y_notas.dtype) # dtype='<U11' significa que son strings Unicode de hasta 11 caracteres\n"
   ]
  },
  {
   "cell_type": "markdown",
   "metadata": {},
   "source": [
    "Al margen de que el ejemplo anterior nos sirva para ejemplificar el tipado en NumPy, esa estructura es mejorable. No solo no encaja en la filosofía de NumPy (relización eficiente de operaciones matemáticas); no cambiaría mucho de dejarlo como lista de listas:\n",
    "    \n",
    "```python\n",
    "alumnos_y_notas = [['Antonio', 'Bea', 'Carlos', 'Diana'],\n",
    "                     [65, 78, 90, 81],\n",
    "                     [71, 82, 79, 92]]\n",
    "```\n",
    "\n",
    "sino que, en lugar de vincular varias listas por su índice (que puede ser una fuente de errores a la hora de eliminar o ordenar elementos de modo sincronizado en todas ellas), lo recomendable será primero encapsular cada alumno con sus notas (en una tupla o en un objeto) y mantener una lista de ellos:\n",
    "\n",
    "```python\n",
    "alumnos_y_notas = [('Antonio', [65, 71]), ('Bea', [78, 82]), ('Carlos', [90, 79]), ('Diana', [81, 92])]\n",
    "```\n",
    "\n",
    "Esto sería cuestionable en caso de que necesitemos hacer un procesado costoso de un gran número de notas de alumnos, pero en ese caso, lo recomendable sería utilizar una estructura de datos más compleja, como un **DataFrame de Pandas**, que nos permitiría realizar operaciones de modo eficiente."
   ]
  },
  {
   "cell_type": "markdown",
   "metadata": {},
   "source": [
    "### NaN"
   ]
  },
  {
   "cell_type": "markdown",
   "metadata": {},
   "source": [
    "El tipo de dato **float** de NumPy permite el valor especial **NaN** (Not a Number), que se utiliza para representar valores numéricos que no son números reales manteniendo el tipo de dato float para poder realizar operaciones con ellos. Por ejemplo, el resultado de dividir 0 entre 0 es NaN.\n",
    "\n",
    "Si utilizásemos el tipo None para representar valores numéricos que no son números reales, el tipo de dato resultante sería object, y no podríamos realizar operaciones matemáticas con él."
   ]
  },
  {
   "cell_type": "code",
   "execution_count": 8,
   "metadata": {},
   "outputs": [
    {
     "name": "stdout",
     "output_type": "stream",
     "text": [
      "<class 'float'>\n",
      "<class 'NoneType'>\n"
     ]
    }
   ],
   "source": [
    "print(type(np.nan))\n",
    "print(type(None))"
   ]
  },
  {
   "cell_type": "code",
   "execution_count": 41,
   "metadata": {},
   "outputs": [
    {
     "data": {
      "text/plain": [
       "array([[ 1.,  2.,  3.],\n",
       "       [ 4., nan,  6.]])"
      ]
     },
     "execution_count": 41,
     "metadata": {},
     "output_type": "execute_result"
    }
   ],
   "source": [
    "np.array([[1, 2, 3], [4, np.nan, 6]])"
   ]
  },
  {
   "cell_type": "markdown",
   "metadata": {},
   "source": [
    "## Accediendo a elementos"
   ]
  },
  {
   "cell_type": "markdown",
   "metadata": {},
   "source": [
    "[<img src=\"https://numpy.org/doc/stable/_images/np_indexing.png\" width=\"800\"/>](https://numpy.org/doc/stable/user/absolute_beginners.html#indexing-and-slicing)"
   ]
  },
  {
   "cell_type": "code",
   "execution_count": 9,
   "metadata": {},
   "outputs": [
    {
     "data": {
      "text/plain": [
       "5"
      ]
     },
     "execution_count": 9,
     "metadata": {},
     "output_type": "execute_result"
    }
   ],
   "source": [
    "numpy_darray_2D[1,1] # Acceso a un elemento del ndarray (fila 1, columna 1)"
   ]
  },
  {
   "cell_type": "code",
   "execution_count": 10,
   "metadata": {},
   "outputs": [
    {
     "data": {
      "text/plain": [
       "array([[11, 12, 13, 14],\n",
       "       [21, 22, 23, 24],\n",
       "       [31, 32, 33, 34]])"
      ]
     },
     "execution_count": 10,
     "metadata": {},
     "output_type": "execute_result"
    }
   ],
   "source": [
    "A = np.array([[11, 12, 13, 14], [21, 22, 23, 24], [31, 32, 33, 34]])\n",
    "A"
   ]
  },
  {
   "cell_type": "markdown",
   "metadata": {},
   "source": [
    "La celda anterior define con NumPy una matriz 3x2 (3 filas y 4 columnas) como la siguente:\n",
    "\n",
    "$$\n",
    "\\begin{pmatrix}\n",
    "    11 & 12 & 13 & 14\\\\\n",
    "    21 & 22 & 23 & 24\\\\\n",
    "    31 & 32 & 33 & 34\n",
    "\\end{pmatrix}\n",
    "$$\n",
    "\n",
    "Para acceder a sus valores en python se utiliza la sintaxis ``` A[fila, columna]```, recordando que los índices comienzan en 0, por lo que el primer elemento de la matriz se accede con ```A[0,0]``` y el último con ```A[2,3]```.\n",
    "\n",
    "$$\n",
    "\\begin{array}{c c}\n",
    "    & \\color{red} \\begin{matrix}\n",
    "    col\\ 0\\  &\\ \\ col\\ 1\\  &\\  \\ col\\ 2\\  &\\  \\ col\\ 3 \\end{matrix}\n",
    "    \\\\\n",
    "    \\color{red}\n",
    "    \\begin{matrix} fila\\ 0 \\\\ fila\\ 1 \\\\ fila\\ 2 \\end{matrix}\n",
    "    &\n",
    "    \\begin{pmatrix}\n",
    "        A[0,0] & A[0,1] & A[0,2] & A[0,3]\\\\\n",
    "        A[1,0] & A[1,1] & A[1,2] & A[1,3]\\\\\n",
    "        A[2,0] & A[2,1] & A[2,2] & A[2,3]\n",
    "    \\end{pmatrix}\n",
    "\\end{array}\n",
    "$$"
   ]
  },
  {
   "cell_type": "code",
   "execution_count": 11,
   "metadata": {},
   "outputs": [
    {
     "name": "stdout",
     "output_type": "stream",
     "text": [
      "11\n",
      "23\n",
      "[21 22 23 24]\n"
     ]
    }
   ],
   "source": [
    "print(A[0,0]) # Elemento de la primera fila (fila 0) y primera columna (columna 0)\n",
    "print(A[1,2]) # Elemento de la segunda fila (fila 1) y tercera columna (columna 2)\n",
    "print(A[1]) # Segunda fila de A (índice 1)"
   ]
  },
  {
   "cell_type": "markdown",
   "metadata": {},
   "source": [
    "## Funciones básicas para crear arrays"
   ]
  },
  {
   "cell_type": "code",
   "execution_count": 12,
   "metadata": {},
   "outputs": [
    {
     "name": "stdout",
     "output_type": "stream",
     "text": [
      "[0. 0. 0. 0.]\n",
      "[1. 1.]\n"
     ]
    }
   ],
   "source": [
    "print(np.zeros(4)) # Crea un vector de NumPy con cuatro elementos a 0\n",
    "print(np.ones(2)) # Crea un ndarray de NumPy con dos elementos a 1"
   ]
  },
  {
   "cell_type": "code",
   "execution_count": 13,
   "metadata": {},
   "outputs": [
    {
     "data": {
      "text/plain": [
       "array([[0., 0., 0.],\n",
       "       [0., 0., 0.]])"
      ]
     },
     "execution_count": 13,
     "metadata": {},
     "output_type": "execute_result"
    }
   ],
   "source": [
    "# El parámetro shape nos permite especificar la forma de la matriz, recibe una tupla con sus dimensiones\n",
    "np.zeros(shape=(2,3)) # Crea una matriz de 2x3 ceros. Dimensiones (tupla 2,3) con ceros"
   ]
  },
  {
   "cell_type": "code",
   "execution_count": 14,
   "metadata": {},
   "outputs": [
    {
     "data": {
      "text/plain": [
       "array([[[1, 1],\n",
       "        [1, 1]],\n",
       "\n",
       "       [[1, 1],\n",
       "        [1, 1]]])"
      ]
     },
     "execution_count": 14,
     "metadata": {},
     "output_type": "execute_result"
    }
   ],
   "source": [
    "np.ones((2,2,2), dtype=int) # Crea un array tridimensional de 2x2x2 con unos de tipo int"
   ]
  },
  {
   "cell_type": "code",
   "execution_count": 15,
   "metadata": {},
   "outputs": [
    {
     "name": "stdout",
     "output_type": "stream",
     "text": [
      "[0. 0. 0. 0.]\n",
      "[0 0 0 0]\n",
      "[254 255   0   1   2]\n"
     ]
    }
   ],
   "source": [
    "# np.zeros, np.ones por defecto el tipo float64, pero podemos especificar el tipo con el parámetro dtype\n",
    "print(np.zeros(4))\n",
    "print(np.zeros(4, dtype=np.int64))\n",
    "\n",
    "print(np.arange(254, 259, dtype=np.uint8)) # En este caso, el tipo es uint8 (unsigned int de 8 bits), así que el máximo valor que puede tomar es 255 y desborda"
   ]
  },
  {
   "cell_type": "code",
   "execution_count": 16,
   "metadata": {},
   "outputs": [
    {
     "data": {
      "text/plain": [
       "array([1., 1.])"
      ]
     },
     "execution_count": 16,
     "metadata": {},
     "output_type": "execute_result"
    }
   ],
   "source": [
    "# np.empty no inicializa sus elementos, así que toman el valor que había en la posición de memoria\n",
    "np.empty(2)"
   ]
  },
  {
   "cell_type": "code",
   "execution_count": 17,
   "metadata": {},
   "outputs": [
    {
     "name": "stdout",
     "output_type": "stream",
     "text": [
      "[[ True  True  True]\n",
      " [ True  True  True]\n",
      " [ True  True  True]]\n",
      "[[5 5]\n",
      " [5 5]\n",
      " [5 5]]\n",
      "[[5. 5.]\n",
      " [5. 5.]\n",
      " [5. 5.]]\n",
      "[[5. 5.]\n",
      " [5. 5.]\n",
      " [5. 5.]]\n"
     ]
    }
   ],
   "source": [
    "print(np.full((3,3), True)) # Crea una matriz de 3x3 con todos los elementos a True\n",
    "print(np.full(shape=(3,2), fill_value=5)) # Crea una matriz de 3x2 con todos los elementos a 5 (int)\n",
    "\n",
    "# np.full tomará el tipo del argumento que le pasemos (como np.array con los elementos contenidos en la secuencia que se le pasa), así que si le pasamos un float, los elementos serán floats\n",
    "\n",
    "print(np.full((3,2), 5.0)) # Crea una matriz de 3x2 con todos los elementos a 5.0\n",
    "print(np.full((3,2), 5, dtype=np.float64)) # Crea una matriz de 3x2 con todos los elementos a 5.0"
   ]
  },
  {
   "cell_type": "markdown",
   "metadata": {},
   "source": [
    "## Generación de números aleatorios"
   ]
  },
  {
   "cell_type": "code",
   "execution_count": 18,
   "metadata": {},
   "outputs": [
    {
     "name": "stdout",
     "output_type": "stream",
     "text": [
      "[[0.23589636 0.05013821 0.93024442 0.26769684]\n",
      " [0.79836421 0.16406673 0.23500046 0.13448886]\n",
      " [0.51991408 0.25611314 0.17404866 0.34935782]]\n",
      "[[4 4 4 2]\n",
      " [4 1 4 4]]\n"
     ]
    }
   ],
   "source": [
    "rng = np.random.default_rng() # Creamos un generador de números aleatorios de NumPy\n",
    "print(rng.random((3, 4))) # Crea una matriz de 3x4 con números aleatorios entre 0 y 1\n",
    "print(rng.integers(5, size=(2, 4))) # Crea una matriz de 2x4 con números aleatorios entre 0 y 4"
   ]
  },
  {
   "cell_type": "markdown",
   "metadata": {},
   "source": [
    "## Funciones para crear vectores siguiendo secuencias"
   ]
  },
  {
   "cell_type": "code",
   "execution_count": 19,
   "metadata": {},
   "outputs": [
    {
     "name": "stdout",
     "output_type": "stream",
     "text": [
      "[2 4 6 8]\n",
      "[0 1 2 3 4 5 6 7 8 9]\n",
      "[ 0.   2.5  5.   7.5 10. ]\n"
     ]
    }
   ],
   "source": [
    "print(np.arange(2, 10, 2)) # Igual que la función range de python, pero devuelve un ndarray de NumPy\n",
    "print(np.arange(10))\n",
    "print(np.linspace(0, 10, num=5)) # Devuelve un ndarray de NumPy con 5 elementos equidistantes entre 0 y 10"
   ]
  },
  {
   "cell_type": "markdown",
   "metadata": {},
   "source": [
    "## Reshape"
   ]
  },
  {
   "cell_type": "code",
   "execution_count": 20,
   "metadata": {},
   "outputs": [
    {
     "name": "stdout",
     "output_type": "stream",
     "text": [
      "[[ 0  1  2  3]\n",
      " [ 4  5  6  7]\n",
      " [ 8  9 10 11]]\n"
     ]
    }
   ],
   "source": [
    "# Un vector se puede convertir en una matriz con la función reshape\n",
    "vector_base=np.arange(12)\n",
    "print(vector_base.reshape(3, 4)) # Crea un vector 12 elementos y lo convierte en una matriz de 3x4\n",
    "# En un shape de una matriz, el primer elemento es el número de filas (axis 0) y el segundo el número de columnas (axis 1)"
   ]
  },
  {
   "cell_type": "code",
   "execution_count": 21,
   "metadata": {},
   "outputs": [
    {
     "name": "stdout",
     "output_type": "stream",
     "text": [
      "[[ 0  1  2  3]\n",
      " [ 4  5  6  7]\n",
      " [ 8  9 10 11]]\n"
     ]
    }
   ],
   "source": [
    "# El valor especial -1 en el parámetro shape indica que NumPy debe inferir el valor de esa dimensión\n",
    "print(vector_base.reshape(3, -1)) # Crea un vector 12 elementos y lo convierte en una matriz de 3x4"
   ]
  },
  {
   "cell_type": "code",
   "execution_count": 40,
   "metadata": {},
   "outputs": [
    {
     "data": {
      "text/plain": [
       "array([[1],\n",
       "       [2],\n",
       "       [3]])"
      ]
     },
     "execution_count": 40,
     "metadata": {},
     "output_type": "execute_result"
    }
   ],
   "source": [
    "np.array([1, 2, 3]).reshape(-1,1) # Convierte un vector en una matriz de una columna"
   ]
  },
  {
   "cell_type": "markdown",
   "metadata": {},
   "source": [
    "## Slicing"
   ]
  },
  {
   "cell_type": "markdown",
   "metadata": {},
   "source": [
    "El slicing es una forma de recuperar una parte de la matriz. Funciona de modo análogo a las listas de Python.\n",
    "\n",
    "```\n",
    "a[start:stop]  # elementos desde start hasta stop-1 (stop es el primer elemento que no se incluye)\n",
    "a[start:]      # elementos desde start hasta el final del array\n",
    "a[:stop]       # elementos desde el inicio del array hasta stop-1\n",
    "a[:]           # una copia del array completo\n",
    "```\n",
    "\n",
    "También existe un tercer valor, el incremento \"step\":\n",
    "```\n",
    "a[start:stop:step] # desde start hasta un valor menor que stop, con incremento \"step\"\n",
    "```\n",
    "\n",
    "Start y stop pueden ser números negativos. Eso significa que se cuenta desde el final de array:\n",
    "```\n",
    "a[-1]    # Último elemento del array\n",
    "a[-2:]   # Últimos dos elementos del array\n",
    "a[:-2]   # Todos los elementos del array menos los dos últimos\n",
    "```\n",
    "\n",
    "Step también puede ser negativo:\n",
    "```\n",
    "a[::-1]    # todos los elementos del array pero invertidos, empezando por el último (es equivalente a np.flip(a))\n",
    "a[1::-1]   # los dos elementos, invertidos\n",
    "a[:-3:-1]  # los últimos dos elementos, invertidos\n",
    "a[-3::-1]  # todo excepto los dos últimos elementos, invertidos\n",
    "```\n",
    "\n",
    "[<img src=\"https://numpy.org/doc/stable/_images/np_matrix_indexing.png\" width=\"800\"/>](https://numpy.org/doc/stable/user/absolute_beginners.html#indexing-and-slicing)"
   ]
  },
  {
   "cell_type": "code",
   "execution_count": 23,
   "metadata": {},
   "outputs": [
    {
     "name": "stdout",
     "output_type": "stream",
     "text": [
      "[[11 12 13 14]\n",
      " [21 22 23 24]\n",
      " [31 32 33 34]]\n",
      "---\n",
      "Fila 1: [21 22 23 24]\n",
      "Fila 1: [21 22 23 24]\n"
     ]
    }
   ],
   "source": [
    "print(f\"{A}\\n---\")\n",
    "\n",
    "print(f\"Fila 1: {A[1,:]}\") # La fila con índice 1 y todas las columnas. O sea: la 2ª fila\n",
    "print(f\"Fila 1: {A[1]}\") # lo mismo que la anterior, simplificado"
   ]
  },
  {
   "cell_type": "code",
   "execution_count": 39,
   "metadata": {},
   "outputs": [
    {
     "data": {
      "text/plain": [
       "array([12, 22, 32])"
      ]
     },
     "execution_count": 39,
     "metadata": {},
     "output_type": "execute_result"
    }
   ],
   "source": [
    "A[:,1] # Los elementos de todas las filas (:) y la columna 1. O sea: los de la 2ª columna\n",
    "# Se devuelve un vector con esos valores (no una matriz con una sola columna)"
   ]
  },
  {
   "cell_type": "code",
   "execution_count": 38,
   "metadata": {},
   "outputs": [
    {
     "data": {
      "text/plain": [
       "array([[12],\n",
       "       [22],\n",
       "       [32]])"
      ]
     },
     "execution_count": 38,
     "metadata": {},
     "output_type": "execute_result"
    }
   ],
   "source": [
    "# Igual que el anterior, pero devuelve una matriz de una sola columna\n",
    "A[:,1:2]\n",
    "# print(f\"Columna 1: {A[:,1].reshape(-1,1)}\") # Equivalente"
   ]
  },
  {
   "cell_type": "code",
   "execution_count": 26,
   "metadata": {},
   "outputs": [
    {
     "name": "stdout",
     "output_type": "stream",
     "text": [
      "[[11 12 13 14]\n",
      " [21 22 23 24]\n",
      " [31 32 33 34]]\n",
      "---\n",
      "Fila 1, columnas 0 y 1: [21 22]\n"
     ]
    }
   ],
   "source": [
    "print(f\"{A}\\n---\")\n",
    "\n",
    "print(f\"Fila 1, columnas 0 y 1: {A[1,:2]}\") # La fila 1 y las columnas 0 y 1 (todas hasta la 2)"
   ]
  },
  {
   "cell_type": "code",
   "execution_count": 27,
   "metadata": {},
   "outputs": [
    {
     "name": "stdout",
     "output_type": "stream",
     "text": [
      "[[11 12 13 14]\n",
      " [21 22 23 24]\n",
      " [31 32 33 34]]\n",
      "---\n",
      "[[22 23]\n",
      " [32 33]]\n",
      "[[22 23 24]\n",
      " [32 33 34]]\n"
     ]
    }
   ],
   "source": [
    "print(f\"{A}\\n---\")\n",
    "\n",
    "print(A[1:3,1:3])  # Submatriz de A con las filas 1 y 2 y las columnas 1 y 2\n",
    "print(A[1:,1:])  # Submatriz de A con las filas 1 y 2 y las columnas 1, 2 y 3"
   ]
  },
  {
   "cell_type": "markdown",
   "metadata": {},
   "source": [
    "## Filtrado"
   ]
  },
  {
   "cell_type": "code",
   "execution_count": 28,
   "metadata": {},
   "outputs": [
    {
     "name": "stdout",
     "output_type": "stream",
     "text": [
      "[1 2 3 4]\n",
      "[1 3]\n"
     ]
    }
   ],
   "source": [
    "arr = np.array([1, 2, 3, 4])\n",
    "print(arr)\n",
    "x = [True, False, True, False] \n",
    "array_filtrado = arr[x] # Filtramos los elementos de arr que están en las posiciones True de x\n",
    "print(array_filtrado)"
   ]
  },
  {
   "cell_type": "code",
   "execution_count": 29,
   "metadata": {},
   "outputs": [
    {
     "name": "stdout",
     "output_type": "stream",
     "text": [
      "[  0   1   4   9  16  25  36  49  64  81 100]\n",
      "[0 1 4 9]\n",
      "[16]\n",
      "[  0   1   4   9  25  36  49  64  81 100]\n",
      "[  0   1   4   9  16  25  36  49  64  81 100]\n",
      "[25 36 49]\n"
     ]
    }
   ],
   "source": [
    "\n",
    "a = np.arange(11)**2\n",
    "print(a)\n",
    "print(a[a<10]) # Nos quedamos con los valores menores a 10\n",
    "print(a[a==16]) # Nos quedamos con los valores iguales a 16\n",
    "print(a[a!=16]) # Nos quedamos con los valores distintos a 16\n",
    "print(a[(a>20) | (a<50)]) # Nos quedamos con los valores mayores a 20 o menores a 50\n",
    "print(a[(a>20) & (a<50)]) # Nos quedamos con los valores mayores a 20 y menores a 50\n"
   ]
  },
  {
   "cell_type": "code",
   "execution_count": 30,
   "metadata": {},
   "outputs": [
    {
     "name": "stdout",
     "output_type": "stream",
     "text": [
      "[  0   0   0   0  16  25  36  49  64  81 100]\n",
      "[[ 0  1  2  3]\n",
      " [ 4  5  6  7]\n",
      " [ 8  9 10 11]]\n",
      "[[ 0  0  2  0]\n",
      " [ 4  0  6  0]\n",
      " [ 8  0 10  0]]\n"
     ]
    }
   ],
   "source": [
    "# Partiendo de filtros podemos hacer modificaciones sobre determinados elementos de un ndarray\n",
    "a[a<10] = 0 # Ponemos a 0 los valores menores a 10\n",
    "print(a)\n",
    "\n",
    "b = np.arange(12).reshape(3,4)\n",
    "print(b)\n",
    "# Ponemos a 0 los valores impares de b\n",
    "b[b%2==1] = 0\n",
    "print(b)"
   ]
  },
  {
   "cell_type": "markdown",
   "metadata": {},
   "source": [
    "## Operaciones matemáticas"
   ]
  },
  {
   "cell_type": "markdown",
   "metadata": {},
   "source": [
    "[<img src=\"https://numpy.org/doc/stable/_images/np_aggregation.png\" width=\"800\"/>](https://numpy.org/doc/stable/user/absolute_beginners.html#more-useful-array-operations)"
   ]
  },
  {
   "cell_type": "code",
   "execution_count": 31,
   "metadata": {},
   "outputs": [
    {
     "name": "stdout",
     "output_type": "stream",
     "text": [
      "vector: [ 9 10  1  2  2  3  3  3  4  5  6  7  8]\n",
      "Máximo: 10\n",
      "Índice del máximo: 1\n",
      "Mínimo: 1\n",
      "Índice del mínimo: 2\n",
      "Suma: 63\n",
      "Media: 4.846153846153846\n",
      "Suma acumulada: [ 9 19 20 22 24 27 30 33 37 42 48 55 63]\n"
     ]
    }
   ],
   "source": [
    "vector = np.array([9,10,1,2,2,3,3,3,4,5,6,7,8])\n",
    "\n",
    "print(f\"vector: {vector}\")\n",
    "print(f\"Máximo: {vector.max()}\")\n",
    "print(f\"Índice del máximo: {vector.argmax()}\")\n",
    "print(f\"Mínimo: {vector.min()}\")\n",
    "print(f\"Índice del mínimo: {vector.argmin()}\")\n",
    "print(f\"Suma: {vector.sum()}\")\n",
    "print(f\"Media: {vector.mean()}\")\n",
    "print(f\"Suma acumulada: {vector.cumsum()}\")"
   ]
  },
  {
   "cell_type": "code",
   "execution_count": 32,
   "metadata": {},
   "outputs": [
    {
     "name": "stdout",
     "output_type": "stream",
     "text": [
      "Desviación típica: 2.797\n",
      "Varianza: 7.822\n"
     ]
    }
   ],
   "source": [
    "print(f\"Desviación típica: {vector.std():.3f}\")\n",
    "print(f\"Varianza: {vector.var():.3f}\")"
   ]
  },
  {
   "cell_type": "markdown",
   "metadata": {},
   "source": [
    "En matrices se definen ejes (axis) sobre los que se pueden realizar operaciones matemáticas. Por defecto, las operaciones se realizan sobre todos los elementos de la matriz, pero se puede especificar el eje sobre el que se quiere operar.\n",
    "\n",
    "\n",
    "[<img src=\"https://numpy.org/doc/stable/_images/np_matrix_aggregation.png\" width=\"800\"/>](https://numpy.org/doc/stable/user/absolute_beginners.html#more-useful-array-operations)\n",
    "\n",
    "[<img src=\"https://numpy.org/doc/stable/_images/np_matrix_aggregation_row.png\" width=\"800\"/>](https://numpy.org/doc/stable/user/absolute_beginners.html#more-useful-array-operations)\n",
    "\n",
    "<img src=\"img/np-axis.png\" width=\"500\"/>"
   ]
  },
  {
   "cell_type": "code",
   "execution_count": 33,
   "metadata": {},
   "outputs": [
    {
     "name": "stdout",
     "output_type": "stream",
     "text": [
      "78\n",
      "[15 18 21 24]\n",
      "[10 26 42]\n"
     ]
    }
   ],
   "source": [
    "matriz = np.array([[1, 2, 3, 4], [5, 6, 7, 8], [9,10,11,12]])\n",
    "print(matriz.sum()) # Suma de todos los elementos\n",
    "print(matriz.sum(axis=0)) # Suma por columnas\n",
    "print(matriz.sum(axis=1)) # Suma por filas"
   ]
  },
  {
   "cell_type": "markdown",
   "metadata": {},
   "source": [
    "## Operaciones sobre matrices"
   ]
  },
  {
   "cell_type": "markdown",
   "metadata": {},
   "source": [
    "### Ordenación"
   ]
  },
  {
   "cell_type": "code",
   "execution_count": 34,
   "metadata": {},
   "outputs": [
    {
     "name": "stdout",
     "output_type": "stream",
     "text": [
      "vector antes de sort:   [ 9 10  1  2  2  3  3  3  4  5  6  7  8]\n",
      "--- Ordenando procedimentalmente ---\n",
      "vector después de sort: [ 9 10  1  2  2  3  3  3  4  5  6  7  8]\n",
      "ordenado:               [ 1  2  2  3  3  3  4  5  6  7  8  9 10]\n",
      "--- Ordenando orientado a objetos ---\n",
      "vector antes de sort:   [ 9 10  1  2  2  3  3  3  4  5  6  7  8]\n",
      "vector ordenado:        [ 1  2  2  3  3  3  4  5  6  7  8  9 10]\n"
     ]
    }
   ],
   "source": [
    "print(f\"vector antes de sort:   {vector}\")\n",
    "print(\"--- Ordenando procedimentalmente ---\")\n",
    "# La función sort() recibe el vector como argumento y lo devuelve ordenado, pero no modifica el vector original\n",
    "ordenado = np.sort(vector)\n",
    "print(f\"vector después de sort: {vector}\")\n",
    "print(f\"ordenado:               {ordenado}\")\n",
    "\n",
    "print(\"--- Ordenando orientado a objetos ---\")\n",
    "# El método sort() del objeto ndarray modifica este objeto desde el que se llama, no devuelve nada\n",
    "vector_copia = vector.copy() # copia del vector original\n",
    "print(f\"vector antes de sort:   {vector_copia}\")\n",
    "vector_copia.sort()\n",
    "print(f\"vector ordenado:        {vector_copia}\")"
   ]
  },
  {
   "cell_type": "markdown",
   "metadata": {},
   "source": [
    "### Unique"
   ]
  },
  {
   "cell_type": "code",
   "execution_count": 35,
   "metadata": {},
   "outputs": [
    {
     "name": "stdout",
     "output_type": "stream",
     "text": [
      "vector:     [ 9 10  1  2  2  3  3  3  4  5  6  7  8]\n",
      "únicos:     [ 1  2  3  4  5  6  7  8  9 10]\n",
      "índices:    [ 2  3  5  8  9 10 11 12  0  1]\n"
     ]
    }
   ],
   "source": [
    "# numpy.unique() devuelve los valores únicos de un vector\n",
    "unicos, posiciones = np.unique(vector, return_index=True) # return_index=True devuelve los índices de los valores únicos\n",
    "print(f\"vector:     {vector}\")\n",
    "print(f\"únicos:     {unicos}\")\n",
    "print(f\"índices:    {posiciones}\")"
   ]
  },
  {
   "cell_type": "code",
   "execution_count": 36,
   "metadata": {},
   "outputs": [
    {
     "name": "stdout",
     "output_type": "stream",
     "text": [
      "vector:      [ 9 10  1  2  2  3  3  3  4  5  6  7  8]\n",
      "únicos:       [ 1  2  3  4  5  6  7  8  9 10]\n",
      "frecuencias: [1 2 3 1 1 1 1 1 1 1]\n",
      "{1: 1, 2: 2, 3: 3, 4: 1, 5: 1, 6: 1, 7: 1, 8: 1, 9: 1, 10: 1}\n"
     ]
    }
   ],
   "source": [
    "unicos, frecuencias = np.unique(vector, return_counts=True) # return_counts=True devuelve las frecuencias de los valores únicos\n",
    "print(f\"vector:      {vector}\")\n",
    "print(f\"únicos:       {unicos}\")\n",
    "print(f\"frecuencias: {frecuencias}\")\n",
    "# Si por ejemplo queremos un diccionario con cada valor y su frecuencia, podemos usar zip:\n",
    "print(dict(zip(unicos, frecuencias)))\n",
    "# zip devuelve un iterador de tuplas combinando los elementos de los iterables que le pasemos uno a uno. En este caso, combinamos los elementos de unicos y frecuencias, que son dos arrays de NumPy, así que zip devuelve un iterador de tuplas de NumPy. Al pasarlo a dict, creamos un diccionario con las tuplas como pares clave-valor."
   ]
  },
  {
   "cell_type": "markdown",
   "metadata": {},
   "source": [
    "### Flip"
   ]
  },
  {
   "cell_type": "code",
   "execution_count": 37,
   "metadata": {},
   "outputs": [
    {
     "name": "stdout",
     "output_type": "stream",
     "text": [
      "vector:    [ 9 10  1  2  2  3  3  3  4  5  6  7  8]\n",
      "reflejado: [ 8  7  6  5  4  3  3  3  2  2  1 10  9]\n"
     ]
    }
   ],
   "source": [
    "print(f\"vector:    {vector}\")\n",
    "print(f\"reflejado: {np.flip(vector)}\")"
   ]
  }
 ],
 "metadata": {
  "kernelspec": {
   "display_name": "base",
   "language": "python",
   "name": "python3"
  },
  "language_info": {
   "codemirror_mode": {
    "name": "ipython",
    "version": 3
   },
   "file_extension": ".py",
   "mimetype": "text/x-python",
   "name": "python",
   "nbconvert_exporter": "python",
   "pygments_lexer": "ipython3",
   "version": "3.11.5"
  }
 },
 "nbformat": 4,
 "nbformat_minor": 2
}
