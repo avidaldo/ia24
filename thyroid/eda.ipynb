{
 "cells": [
  {
   "cell_type": "markdown",
   "metadata": {},
   "source": [
    "# Modelo de detección de enfermedades de tiroides"
   ]
  },
  {
   "cell_type": "markdown",
   "metadata": {},
   "source": [
    "## Carga de datos y simplificación de las categorías de la variable objetivo"
   ]
  },
  {
   "cell_type": "markdown",
   "metadata": {},
   "source": [
    "Fuente del dataset: https://www.kaggle.com/datasets/emmanuelfwerr/thyroid-disease-data/data"
   ]
  },
  {
   "cell_type": "code",
   "execution_count": 2,
   "metadata": {},
   "outputs": [
    {
     "name": "stdout",
     "output_type": "stream",
     "text": [
      "Class distribution:\n",
      "target\n",
      "negative        6774\n",
      "hypothyroid      950\n",
      "hyperthyroid     486\n",
      "Name: count, dtype: int64\n"
     ]
    }
   ],
   "source": [
    "import pandas as pd\n",
    "file_path = \"./data/thyroidDF.csv\"\n",
    "df = pd.read_csv(file_path)\n",
    "\n",
    "# Simplify the target variable\n",
    "class_mapping = {\n",
    "    '-': 'negative',\n",
    "    'K': 'hyperthyroid', 'B': 'hyperthyroid', 'H|K': 'hyperthyroid',\n",
    "    'KJ': 'hyperthyroid', 'GI': 'hyperthyroid',\n",
    "    'G': 'hypothyroid', 'I': 'hypothyroid', 'F': 'hypothyroid', 'C|I': 'hypothyroid',\n",
    "    'E': 'negative', 'LJ': 'negative', 'D|R': 'negative',\n",
    "}\n",
    "\n",
    "df['target'] = df['target'].map(class_mapping)\n",
    "\n",
    "# Drop rows with unmapped or missing target\n",
    "df = df.dropna(subset=['target'])\n",
    "\n",
    "# Check class distribution after mapping\n",
    "print(\"Class distribution:\")\n",
    "print(df['target'].value_counts())\n"
   ]
  },
  {
   "cell_type": "markdown",
   "metadata": {},
   "source": [
    "## Definición del problema"
   ]
  },
  {
   "cell_type": "markdown",
   "metadata": {},
   "source": [
    "Pretendemos crear un modelo de clasificación que permita predecir si un paciente tiene o no una enfermedad de tiroides. Para ello, utilizaremos un conjunto de datos que contiene información sobre varios atributos de los pacientes, como la edad, el sexo, el nivel de la hormona estimulante de la tiroides (TSH), el nivel de la hormona tiroidea total (T3), el nivel de la hormona tiroidea libre (T4), entre otros.\n",
    "\n",
    "Se ha decidido simplificar la variable objetivo, que originalmente tenía muchas categorías, en tres categorías: \"hipotiroidismo\", \"negativo\" e \"hipertiroidismo\". Esto se ha hecho para facilitar la interpretación del modelo y para reducir el desequilibrio de clases en la variable objetivo.\n",
    "\n",
    "Crearemos por tanto un modelo de clasificación en estas 3 categorías. "
   ]
  },
  {
   "cell_type": "markdown",
   "metadata": {},
   "source": [
    "## Analisis exploratorio de los datos"
   ]
  },
  {
   "cell_type": "markdown",
   "metadata": {},
   "source": [
    "Como ya se vio anteriorimente, la variable objetivo es \"target\", que tiene tres categorías: \"hypothyroid\", \"negative\" e \"hyperthyroid\", que no están balanceadas (la mayoría son casos negativos, lo cual es común en problemas de clasificación médica)."
   ]
  },
  {
   "cell_type": "code",
   "execution_count": 2,
   "metadata": {},
   "outputs": [
    {
     "name": "stdout",
     "output_type": "stream",
     "text": [
      "<class 'pandas.core.frame.DataFrame'>\n",
      "Index: 8210 entries, 0 to 9171\n",
      "Data columns (total 31 columns):\n",
      " #   Column               Non-Null Count  Dtype  \n",
      "---  ------               --------------  -----  \n",
      " 0   age                  8210 non-null   int64  \n",
      " 1   sex                  7943 non-null   object \n",
      " 2   on_thyroxine         8210 non-null   object \n",
      " 3   query_on_thyroxine   8210 non-null   object \n",
      " 4   on_antithyroid_meds  8210 non-null   object \n",
      " 5   sick                 8210 non-null   object \n",
      " 6   pregnant             8210 non-null   object \n",
      " 7   thyroid_surgery      8210 non-null   object \n",
      " 8   I131_treatment       8210 non-null   object \n",
      " 9   query_hypothyroid    8210 non-null   object \n",
      " 10  query_hyperthyroid   8210 non-null   object \n",
      " 11  lithium              8210 non-null   object \n",
      " 12  goitre               8210 non-null   object \n",
      " 13  tumor                8210 non-null   object \n",
      " 14  hypopituitary        8210 non-null   object \n",
      " 15  psych                8210 non-null   object \n",
      " 16  TSH_measured         8210 non-null   object \n",
      " 17  TSH                  7492 non-null   float64\n",
      " 18  T3_measured          8210 non-null   object \n",
      " 19  T3                   5897 non-null   float64\n",
      " 20  TT4_measured         8210 non-null   object \n",
      " 21  TT4                  7854 non-null   float64\n",
      " 22  T4U_measured         8210 non-null   object \n",
      " 23  T4U                  7518 non-null   float64\n",
      " 24  FTI_measured         8210 non-null   object \n",
      " 25  FTI                  7525 non-null   float64\n",
      " 26  TBG_measured         8210 non-null   object \n",
      " 27  TBG                  259 non-null    float64\n",
      " 28  referral_source      8210 non-null   object \n",
      " 29  target               8210 non-null   object \n",
      " 30  patient_id           8210 non-null   int64  \n",
      "dtypes: float64(6), int64(2), object(23)\n",
      "memory usage: 2.0+ MB\n"
     ]
    }
   ],
   "source": [
    "df.info()"
   ]
  },
  {
   "cell_type": "markdown",
   "metadata": {},
   "source": [
    "Contamos con 8210 observaciones y 30 columnas.\n",
    "\n",
    "La columna \"patient_id\" es un identificador único para cada paciente y no aporta información relevante para el análisis, por lo que se eliminará del conjunto de datos."
   ]
  },
  {
   "cell_type": "code",
   "execution_count": 3,
   "metadata": {},
   "outputs": [],
   "source": [
    "df.drop(columns=['patient_id', 'referral_source'], inplace=True)"
   ]
  },
  {
   "cell_type": "markdown",
   "metadata": {},
   "source": [
    "Podemos ver que para algunas columnas existe la métrica (por ejemplo, 'TBG') y una columna adicional que indica si la métrica se tomó o no. Podemos comprobar que si la métrica no se tomó, el valor es 'nan'."
   ]
  },
  {
   "cell_type": "markdown",
   "metadata": {},
   "source": [
    "\n",
    "La mayoría de las columnas son no numéricas, por lo que se deberá realizar un proceso de codificación de variables categóricas para poder utilizarlas en el modelo."
   ]
  },
  {
   "cell_type": "code",
   "execution_count": 4,
   "metadata": {},
   "outputs": [
    {
     "name": "stdout",
     "output_type": "stream",
     "text": [
      "Columna 'sex': ['F' 'M' nan]\n",
      "Columna 'on_thyroxine': ['f' 't']\n",
      "Columna 'query_on_thyroxine': ['f' 't']\n",
      "Columna 'on_antithyroid_meds': ['f' 't']\n",
      "Columna 'sick': ['f' 't']\n",
      "Columna 'pregnant': ['f' 't']\n",
      "Columna 'thyroid_surgery': ['f' 't']\n",
      "Columna 'I131_treatment': ['f' 't']\n",
      "Columna 'query_hypothyroid': ['t' 'f']\n",
      "Columna 'query_hyperthyroid': ['f' 't']\n",
      "Columna 'lithium': ['f' 't']\n",
      "Columna 'goitre': ['f' 't']\n",
      "Columna 'tumor': ['f' 't']\n",
      "Columna 'hypopituitary': ['f' 't']\n",
      "Columna 'psych': ['f' 't']\n",
      "Columna 'TSH_measured': ['t' 'f']\n",
      "Columna 'T3_measured': ['f' 't']\n",
      "Columna 'TT4_measured': ['f' 't']\n",
      "Columna 'T4U_measured': ['f' 't']\n",
      "Columna 'FTI_measured': ['f' 't']\n",
      "Columna 'TBG_measured': ['f' 't']\n",
      "Columna 'target': ['negative' 'hypothyroid' 'hyperthyroid']\n"
     ]
    }
   ],
   "source": [
    "object_columns = df.select_dtypes(exclude=['number']).columns\n",
    "\n",
    "for col in object_columns:\n",
    "    unique_values = df[col].unique()\n",
    "    print(f\"Columna '{col}': {unique_values}\")"
   ]
  },
  {
   "cell_type": "markdown",
   "metadata": {},
   "source": [
    "Vemos que la mayoría de las columnas no numéricas son categóricas binarias con valores \"f\" y \"t\", que representan \"falso\" y \"verdadero\", respectivamente. Estas columnas se pueden convertir en variables binarias numéricas (0 y 1) para facilitar su uso en el modelo.\n",
    "\n",
    "Para la columna 'sex', que tiene valores \"M\" y \"F\", se puede utilizar una codificación binaria (0 y 1) para representar el género también, pero como no hay un orden asociado y existen valores faltantes, se utilizará un enfoque de codificación one-hot para esta columna, dejando los valores faltantes a 0 en ambas columnas."
   ]
  },
  {
   "cell_type": "markdown",
   "metadata": {},
   "source": [
    "Vemos primero qué valores nan hay presentes."
   ]
  },
  {
   "cell_type": "code",
   "execution_count": 5,
   "metadata": {},
   "outputs": [
    {
     "data": {
      "text/html": [
       "<div>\n",
       "<style scoped>\n",
       "    .dataframe tbody tr th:only-of-type {\n",
       "        vertical-align: middle;\n",
       "    }\n",
       "\n",
       "    .dataframe tbody tr th {\n",
       "        vertical-align: top;\n",
       "    }\n",
       "\n",
       "    .dataframe thead th {\n",
       "        text-align: right;\n",
       "    }\n",
       "</style>\n",
       "<table border=\"1\" class=\"dataframe\">\n",
       "  <thead>\n",
       "    <tr style=\"text-align: right;\">\n",
       "      <th></th>\n",
       "      <th>NaN</th>\n",
       "      <th>Perc</th>\n",
       "    </tr>\n",
       "  </thead>\n",
       "  <tbody>\n",
       "    <tr>\n",
       "      <th>TBG</th>\n",
       "      <td>7951</td>\n",
       "      <td>96.8</td>\n",
       "    </tr>\n",
       "    <tr>\n",
       "      <th>T3</th>\n",
       "      <td>2313</td>\n",
       "      <td>28.2</td>\n",
       "    </tr>\n",
       "    <tr>\n",
       "      <th>TSH</th>\n",
       "      <td>718</td>\n",
       "      <td>8.7</td>\n",
       "    </tr>\n",
       "    <tr>\n",
       "      <th>T4U</th>\n",
       "      <td>692</td>\n",
       "      <td>8.4</td>\n",
       "    </tr>\n",
       "    <tr>\n",
       "      <th>FTI</th>\n",
       "      <td>685</td>\n",
       "      <td>8.3</td>\n",
       "    </tr>\n",
       "    <tr>\n",
       "      <th>TT4</th>\n",
       "      <td>356</td>\n",
       "      <td>4.3</td>\n",
       "    </tr>\n",
       "    <tr>\n",
       "      <th>sex</th>\n",
       "      <td>267</td>\n",
       "      <td>3.3</td>\n",
       "    </tr>\n",
       "  </tbody>\n",
       "</table>\n",
       "</div>"
      ],
      "text/plain": [
       "      NaN  Perc\n",
       "TBG  7951  96.8\n",
       "T3   2313  28.2\n",
       "TSH   718   8.7\n",
       "T4U   692   8.4\n",
       "FTI   685   8.3\n",
       "TT4   356   4.3\n",
       "sex   267   3.3"
      ]
     },
     "execution_count": 5,
     "metadata": {},
     "output_type": "execute_result"
    }
   ],
   "source": [
    "def get_nan_per_column(df, show_all=False):\n",
    "    na_per_colum = df.isna().sum()\n",
    "    na = pd.DataFrame({\n",
    "        'NaN': na_per_colum,\n",
    "        'Perc': (na_per_colum / df.shape[0] * 100).round(1)\n",
    "    })\n",
    "    if show_all:\n",
    "        return na.sort_values(by='Perc', ascending=False)\n",
    "    else:\n",
    "        return na[na['NaN'] > 0].sort_values(by='Perc', ascending=False)\n",
    "\n",
    "get_nan_per_column(df)"
   ]
  },
  {
   "cell_type": "markdown",
   "metadata": {},
   "source": [
    "y ahora comprobamos para todas las columnas que si la métrica no se tomó, el valor es 'nan'."
   ]
  },
  {
   "cell_type": "code",
   "execution_count": 6,
   "metadata": {},
   "outputs": [
    {
     "name": "stdout",
     "output_type": "stream",
     "text": [
      "All rows for TSH are consistent.\n",
      "All rows for T3 are consistent.\n",
      "All rows for TT4 are consistent.\n",
      "All rows for T4U are consistent.\n",
      "All rows for FTI are consistent.\n",
      "All rows for TBG are consistent.\n"
     ]
    }
   ],
   "source": [
    "metrics = ['TSH', 'T3', 'TT4', 'T4U', 'FTI', 'TBG']\n",
    "for metric in metrics:\n",
    "    # Create a boolean mask for rows where the metric is not measured\n",
    "    mask = df[f\"{metric}_measured\"] == 'f'\n",
    "    # Check if every row in the measurement column is NaN when the mask is True\n",
    "    if not df.loc[mask, metric].isna().all():\n",
    "        print(f\"Inconsistency found: Some rows where {metric}_measured is 'f' do not have NaN in {metric}\")\n",
    "    else:\n",
    "        print(f\"All rows for {metric} are consistent.\")"
   ]
  },
  {
   "cell_type": "markdown",
   "metadata": {},
   "source": [
    "Vindo que los valores son consistentes, podemos eliminar las columnas adicionales que indican si la métrica se tomó o no ya que su información es redundante, y sabemos que los valores faltantes en esas columnas corresponden a casos en los que la métrica no se tomó."
   ]
  },
  {
   "cell_type": "code",
   "execution_count": 7,
   "metadata": {},
   "outputs": [],
   "source": [
    "df.drop(columns=[f\"{metric}_measured\" for metric in metrics], inplace=True)"
   ]
  },
  {
   "cell_type": "code",
   "execution_count": 8,
   "metadata": {},
   "outputs": [
    {
     "data": {
      "text/html": [
       "<div>\n",
       "<style scoped>\n",
       "    .dataframe tbody tr th:only-of-type {\n",
       "        vertical-align: middle;\n",
       "    }\n",
       "\n",
       "    .dataframe tbody tr th {\n",
       "        vertical-align: top;\n",
       "    }\n",
       "\n",
       "    .dataframe thead th {\n",
       "        text-align: right;\n",
       "    }\n",
       "</style>\n",
       "<table border=\"1\" class=\"dataframe\">\n",
       "  <thead>\n",
       "    <tr style=\"text-align: right;\">\n",
       "      <th></th>\n",
       "      <th>count</th>\n",
       "      <th>mean</th>\n",
       "      <th>std</th>\n",
       "      <th>min</th>\n",
       "      <th>25%</th>\n",
       "      <th>50%</th>\n",
       "      <th>75%</th>\n",
       "      <th>max</th>\n",
       "    </tr>\n",
       "  </thead>\n",
       "  <tbody>\n",
       "    <tr>\n",
       "      <th>age</th>\n",
       "      <td>8210.0</td>\n",
       "      <td>76.114616</td>\n",
       "      <td>1251.387767</td>\n",
       "      <td>1.000</td>\n",
       "      <td>37.00</td>\n",
       "      <td>55.00</td>\n",
       "      <td>68.00</td>\n",
       "      <td>65526.00</td>\n",
       "    </tr>\n",
       "    <tr>\n",
       "      <th>TSH</th>\n",
       "      <td>7492.0</td>\n",
       "      <td>5.123255</td>\n",
       "      <td>24.920496</td>\n",
       "      <td>0.005</td>\n",
       "      <td>0.60</td>\n",
       "      <td>1.40</td>\n",
       "      <td>2.70</td>\n",
       "      <td>530.00</td>\n",
       "    </tr>\n",
       "    <tr>\n",
       "      <th>T3</th>\n",
       "      <td>5897.0</td>\n",
       "      <td>1.925248</td>\n",
       "      <td>0.732331</td>\n",
       "      <td>0.050</td>\n",
       "      <td>1.50</td>\n",
       "      <td>1.90</td>\n",
       "      <td>2.30</td>\n",
       "      <td>9.50</td>\n",
       "    </tr>\n",
       "    <tr>\n",
       "      <th>TT4</th>\n",
       "      <td>7854.0</td>\n",
       "      <td>104.339529</td>\n",
       "      <td>30.374396</td>\n",
       "      <td>2.000</td>\n",
       "      <td>87.00</td>\n",
       "      <td>102.00</td>\n",
       "      <td>121.00</td>\n",
       "      <td>292.00</td>\n",
       "    </tr>\n",
       "    <tr>\n",
       "      <th>T4U</th>\n",
       "      <td>7518.0</td>\n",
       "      <td>0.983067</td>\n",
       "      <td>0.199412</td>\n",
       "      <td>0.190</td>\n",
       "      <td>0.86</td>\n",
       "      <td>0.96</td>\n",
       "      <td>1.07</td>\n",
       "      <td>2.33</td>\n",
       "    </tr>\n",
       "    <tr>\n",
       "      <th>FTI</th>\n",
       "      <td>7525.0</td>\n",
       "      <td>107.569155</td>\n",
       "      <td>27.616805</td>\n",
       "      <td>1.400</td>\n",
       "      <td>93.00</td>\n",
       "      <td>107.00</td>\n",
       "      <td>124.00</td>\n",
       "      <td>332.00</td>\n",
       "    </tr>\n",
       "    <tr>\n",
       "      <th>TBG</th>\n",
       "      <td>259.0</td>\n",
       "      <td>23.186680</td>\n",
       "      <td>7.239849</td>\n",
       "      <td>0.100</td>\n",
       "      <td>20.00</td>\n",
       "      <td>23.00</td>\n",
       "      <td>27.00</td>\n",
       "      <td>86.00</td>\n",
       "    </tr>\n",
       "  </tbody>\n",
       "</table>\n",
       "</div>"
      ],
      "text/plain": [
       "      count        mean          std    min    25%     50%     75%       max\n",
       "age  8210.0   76.114616  1251.387767  1.000  37.00   55.00   68.00  65526.00\n",
       "TSH  7492.0    5.123255    24.920496  0.005   0.60    1.40    2.70    530.00\n",
       "T3   5897.0    1.925248     0.732331  0.050   1.50    1.90    2.30      9.50\n",
       "TT4  7854.0  104.339529    30.374396  2.000  87.00  102.00  121.00    292.00\n",
       "T4U  7518.0    0.983067     0.199412  0.190   0.86    0.96    1.07      2.33\n",
       "FTI  7525.0  107.569155    27.616805  1.400  93.00  107.00  124.00    332.00\n",
       "TBG   259.0   23.186680     7.239849  0.100  20.00   23.00   27.00     86.00"
      ]
     },
     "execution_count": 8,
     "metadata": {},
     "output_type": "execute_result"
    }
   ],
   "source": [
    "df.describe().T"
   ]
  },
  {
   "cell_type": "code",
   "execution_count": 9,
   "metadata": {},
   "outputs": [
    {
     "data": {
      "image/png": "[encoded data removed]",
      "text/plain": [
       "<Figure size 2000x1200 with 9 Axes>"
      ]
     },
     "metadata": {},
     "output_type": "display_data"
    }
   ],
   "source": [
    "import matplotlib.pyplot as plt\n",
    "\n",
    "_ = df.hist(bins=50, figsize=(20, 12), xlabelsize=6) "
   ]
  },
  {
   "cell_type": "markdown",
   "metadata": {},
   "source": [
    "Vemos que las principales variables numéricas tienen en general distribuciones normales. Lo cual es esperable en métricas de pruebas médicas donde la mayor parte de muestras son negativas: se trata de una representación de la población, *normalmente* los pacientes tendrán metricas en el torno a la media, y las medidas extremas son poco frecuentes y a menudo serán indicadores de enfermedad.\n",
    "\n",
    "Esto hace que la estrategia de imputación de valores faltantes por la media o la mediana sea bastante buena, ya que los valores imputados serán valores cercanos a la media de la población, y por lo tanto no sesgarán el modelo. En particular, para las variables T3, TT4, T4U y FTI, la distribución es bastante simétrica y no tiene outliers, por lo que la media y la mediana son muy similares.\n",
    "\n",
    "TSH merecería un tratamiento especial, ya que tiene una distribución bastante asimétrica y algunos valores extremadamente altos, por lo que se podría considerar la posibilidad de transformar la variable para que sea más simétrica.\n",
    "\n",
    "Algo similar sucede con la edad, que tiene una distribución bastante asimétrica y algunos valores extremadamente altos. Sin embargo, aquí tenemos claro que ciertos valores son absurdos.\n"
   ]
  },
  {
   "cell_type": "markdown",
   "metadata": {},
   "source": [
    "### Tratamiento de edad"
   ]
  },
  {
   "cell_type": "code",
   "execution_count": 10,
   "metadata": {},
   "outputs": [
    {
     "data": {
      "text/html": [
       "<div>\n",
       "<style scoped>\n",
       "    .dataframe tbody tr th:only-of-type {\n",
       "        vertical-align: middle;\n",
       "    }\n",
       "\n",
       "    .dataframe tbody tr th {\n",
       "        vertical-align: top;\n",
       "    }\n",
       "\n",
       "    .dataframe thead th {\n",
       "        text-align: right;\n",
       "    }\n",
       "</style>\n",
       "<table border=\"1\" class=\"dataframe\">\n",
       "  <thead>\n",
       "    <tr style=\"text-align: right;\">\n",
       "      <th></th>\n",
       "      <th>age</th>\n",
       "      <th>sex</th>\n",
       "      <th>on_thyroxine</th>\n",
       "      <th>query_on_thyroxine</th>\n",
       "      <th>on_antithyroid_meds</th>\n",
       "      <th>sick</th>\n",
       "      <th>pregnant</th>\n",
       "      <th>thyroid_surgery</th>\n",
       "      <th>I131_treatment</th>\n",
       "      <th>query_hypothyroid</th>\n",
       "      <th>...</th>\n",
       "      <th>tumor</th>\n",
       "      <th>hypopituitary</th>\n",
       "      <th>psych</th>\n",
       "      <th>TSH</th>\n",
       "      <th>T3</th>\n",
       "      <th>TT4</th>\n",
       "      <th>T4U</th>\n",
       "      <th>FTI</th>\n",
       "      <th>TBG</th>\n",
       "      <th>target</th>\n",
       "    </tr>\n",
       "  </thead>\n",
       "  <tbody>\n",
       "    <tr>\n",
       "      <th>2976</th>\n",
       "      <td>455</td>\n",
       "      <td>F</td>\n",
       "      <td>f</td>\n",
       "      <td>f</td>\n",
       "      <td>f</td>\n",
       "      <td>f</td>\n",
       "      <td>f</td>\n",
       "      <td>f</td>\n",
       "      <td>f</td>\n",
       "      <td>f</td>\n",
       "      <td>...</td>\n",
       "      <td>f</td>\n",
       "      <td>f</td>\n",
       "      <td>f</td>\n",
       "      <td>1.10</td>\n",
       "      <td>2.0</td>\n",
       "      <td>118.0</td>\n",
       "      <td>1.13</td>\n",
       "      <td>104.0</td>\n",
       "      <td>NaN</td>\n",
       "      <td>negative</td>\n",
       "    </tr>\n",
       "    <tr>\n",
       "      <th>5710</th>\n",
       "      <td>65511</td>\n",
       "      <td>M</td>\n",
       "      <td>f</td>\n",
       "      <td>f</td>\n",
       "      <td>f</td>\n",
       "      <td>f</td>\n",
       "      <td>f</td>\n",
       "      <td>f</td>\n",
       "      <td>f</td>\n",
       "      <td>f</td>\n",
       "      <td>...</td>\n",
       "      <td>f</td>\n",
       "      <td>f</td>\n",
       "      <td>f</td>\n",
       "      <td>0.38</td>\n",
       "      <td>2.0</td>\n",
       "      <td>113.0</td>\n",
       "      <td>1.08</td>\n",
       "      <td>104.0</td>\n",
       "      <td>NaN</td>\n",
       "      <td>negative</td>\n",
       "    </tr>\n",
       "    <tr>\n",
       "      <th>6392</th>\n",
       "      <td>65512</td>\n",
       "      <td>M</td>\n",
       "      <td>f</td>\n",
       "      <td>f</td>\n",
       "      <td>f</td>\n",
       "      <td>f</td>\n",
       "      <td>f</td>\n",
       "      <td>f</td>\n",
       "      <td>f</td>\n",
       "      <td>f</td>\n",
       "      <td>...</td>\n",
       "      <td>f</td>\n",
       "      <td>f</td>\n",
       "      <td>f</td>\n",
       "      <td>0.03</td>\n",
       "      <td>2.8</td>\n",
       "      <td>112.0</td>\n",
       "      <td>0.84</td>\n",
       "      <td>133.0</td>\n",
       "      <td>NaN</td>\n",
       "      <td>negative</td>\n",
       "    </tr>\n",
       "    <tr>\n",
       "      <th>8105</th>\n",
       "      <td>65526</td>\n",
       "      <td>F</td>\n",
       "      <td>f</td>\n",
       "      <td>f</td>\n",
       "      <td>f</td>\n",
       "      <td>f</td>\n",
       "      <td>f</td>\n",
       "      <td>f</td>\n",
       "      <td>f</td>\n",
       "      <td>f</td>\n",
       "      <td>...</td>\n",
       "      <td>f</td>\n",
       "      <td>f</td>\n",
       "      <td>f</td>\n",
       "      <td>1.50</td>\n",
       "      <td>NaN</td>\n",
       "      <td>132.0</td>\n",
       "      <td>1.02</td>\n",
       "      <td>129.0</td>\n",
       "      <td>NaN</td>\n",
       "      <td>negative</td>\n",
       "    </tr>\n",
       "  </tbody>\n",
       "</table>\n",
       "<p>4 rows × 23 columns</p>\n",
       "</div>"
      ],
      "text/plain": [
       "        age sex on_thyroxine query_on_thyroxine on_antithyroid_meds sick  \\\n",
       "2976    455   F            f                  f                   f    f   \n",
       "5710  65511   M            f                  f                   f    f   \n",
       "6392  65512   M            f                  f                   f    f   \n",
       "8105  65526   F            f                  f                   f    f   \n",
       "\n",
       "     pregnant thyroid_surgery I131_treatment query_hypothyroid  ... tumor  \\\n",
       "2976        f               f              f                 f  ...     f   \n",
       "5710        f               f              f                 f  ...     f   \n",
       "6392        f               f              f                 f  ...     f   \n",
       "8105        f               f              f                 f  ...     f   \n",
       "\n",
       "     hypopituitary psych   TSH   T3    TT4   T4U    FTI  TBG    target  \n",
       "2976             f     f  1.10  2.0  118.0  1.13  104.0  NaN  negative  \n",
       "5710             f     f  0.38  2.0  113.0  1.08  104.0  NaN  negative  \n",
       "6392             f     f  0.03  2.8  112.0  0.84  133.0  NaN  negative  \n",
       "8105             f     f  1.50  NaN  132.0  1.02  129.0  NaN  negative  \n",
       "\n",
       "[4 rows x 23 columns]"
      ]
     },
     "execution_count": 10,
     "metadata": {},
     "output_type": "execute_result"
    }
   ],
   "source": [
    "# Values of age over 100\n",
    "df[df['age'] > 100]"
   ]
  },
  {
   "cell_type": "code",
   "execution_count": 11,
   "metadata": {},
   "outputs": [
    {
     "data": {
      "text/plain": [
       "<Axes: >"
      ]
     },
     "execution_count": 11,
     "metadata": {},
     "output_type": "execute_result"
    },
    {
     "data": {
      "image/png": "[encoded data removed]",
      "text/plain": [
       "<Figure size 640x480 with 1 Axes>"
      ]
     },
     "metadata": {},
     "output_type": "display_data"
    }
   ],
   "source": [
    "df[df['age'] < 100]['age'].hist()"
   ]
  },
  {
   "cell_type": "markdown",
   "metadata": {},
   "source": [
    "Vemos que existen 4 filas con valores de edad absurdos que serán considerados por tanto errores de entrada de datos, por lo que se tratara como valores faltantes y se imputarán. Una vez eliminados estos valores, la distribución de la edad es bastante simétrica y no tiene outliers."
   ]
  },
  {
   "cell_type": "markdown",
   "metadata": {},
   "source": [
    "\n",
    "### Tratamiento de TSH"
   ]
  },
  {
   "cell_type": "markdown",
   "metadata": {},
   "source": [
    "Por otra parte, TSH tiene la mayor parte de sus valores en el rango de 0 a 10, pero también tiene algunos valores extremadamente altos. Por lo tanto, se considerará la posibilidad de mantener estos valores extremos en el conjunto de datos. La distribución es muy asimétrica, por lo que se podría considerar la posibilidad de transformar la variable para que sea más simétrica.\n",
    "\n",
    "> TODO: Valores superiores a 100 deberían tratarse como errores de entrada de datos."
   ]
  },
  {
   "cell_type": "code",
   "execution_count": 12,
   "metadata": {},
   "outputs": [
    {
     "data": {
      "text/plain": [
       "<Axes: >"
      ]
     },
     "execution_count": 12,
     "metadata": {},
     "output_type": "execute_result"
    },
    {
     "data": {
      "image/png": "[encoded data removed]",
      "text/plain": [
       "<Figure size 640x480 with 1 Axes>"
      ]
     },
     "metadata": {},
     "output_type": "display_data"
    }
   ],
   "source": [
    "import numpy as np\n",
    "np.log1p(df['TSH']).hist()"
   ]
  },
  {
   "cell_type": "code",
   "execution_count": 14,
   "metadata": {},
   "outputs": [
    {
     "data": {
      "text/plain": [
       "target_enc    1.000000\n",
       "T3            0.286759\n",
       "TBG          -0.192863\n",
       "TSH          -0.183578\n",
       "FTI           0.180041\n",
       "TT4           0.131691\n",
       "T4U          -0.060922\n",
       "age           0.006814\n",
       "Name: target_enc, dtype: float64"
      ]
     },
     "execution_count": 14,
     "metadata": {},
     "output_type": "execute_result"
    }
   ],
   "source": [
    "from sklearn.preprocessing import LabelEncoder\n",
    "\n",
    "le = LabelEncoder()\n",
    "df[\"target_enc\"]=le.fit_transform(df[\"target\"])\n",
    "\n",
    "corr_matrix = df.corr(numeric_only=True)\n",
    "corr_matrix[\"target_enc\"].sort_values(ascending=False, key=np.abs)"
   ]
  }
 ],
 "metadata": {
  "kernelspec": {
   "display_name": "base",
   "language": "python",
   "name": "python3"
  },
  "language_info": {
   "codemirror_mode": {
    "name": "ipython",
    "version": 3
   },
   "file_extension": ".py",
   "mimetype": "text/x-python",
   "name": "python",
   "nbconvert_exporter": "python",
   "pygments_lexer": "ipython3",
   "version": "3.12.3"
  }
 },
 "nbformat": 4,
 "nbformat_minor": 2
}
