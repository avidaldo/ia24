{
 "cells": [
  {
   "cell_type": "markdown",
   "metadata": {},
   "source": [
    "# Conjuntos de entrenamiento y de prueba"
   ]
  },
  {
   "cell_type": "markdown",
   "metadata": {},
   "source": [
    "Este notebook es una adaptación del [original de *Aurélien Gerón*](https://github.com/ageron/handson-ml3/blob/main/02_end_to_end_machine_learning_project.ipynb), de su libro: [Hands-On Machine Learning with Scikit-Learn, Keras, and TensorFlow, 3rd Edition. Aurélien Géron](https://www.oreilly.com/library/view/hands-on-machine-learning/9781098125967/)"
   ]
  },
  {
   "cell_type": "code",
   "execution_count": 1,
   "metadata": {},
   "outputs": [],
   "source": [
    "import pandas as pd\n",
    "housing = pd.read_csv(\"./data/housing.csv\")"
   ]
  },
  {
   "cell_type": "markdown",
   "metadata": {},
   "source": [
    "Normalmente, se separa una parte de los datos para usarlos como conjunto de prueba (***test set***), y se entrena el modelo con el resto (***train set***). Esto es para evitar el **sobreajuste** o ***overfitting***, dado cuando el modelo se ajusta demasiado a los datos de entrenamiento, y no generaliza bien a datos nuevos. Si el error en el conjunto de entrenamiento es bajo y en el de prueba es alto, es que el modelo está sobreajustado.\n",
    "\n",
    "Es habitual usar un 20% de los datos para el conjunto de prueba, pero esto depende del tamaño del dataset. Cuanto más grande sea el dataset, menos datos necesitaremos para el conjunto de prueba.\n",
    "<!-- TODO: En el original fuerza la semilla del random -->"
   ]
  },
  {
   "cell_type": "markdown",
   "metadata": {},
   "source": [
    "## Muestreo aleatorio con NumPy"
   ]
  },
  {
   "cell_type": "code",
   "execution_count": 2,
   "metadata": {},
   "outputs": [],
   "source": [
    "import numpy as np\n",
    "\n",
    "def shuffle_and_split_data(data, test_ratio):\n",
    "    ''' Baraja los datos y los divide en train (entrenamiento) y test según el ratio especificado. \n",
    "    \n",
    "        Parameters\n",
    "        ----------\n",
    "        data: pandas.DataFrame\n",
    "            Dataframe containing the data you want to split\n",
    "        test_ratio: float\n",
    "            Proporción (entre 0 y 1) de datos que se utilizarán para test (el resto se utilizará para entrenamiento)\n",
    "    \n",
    "        Returns\n",
    "        -------\n",
    "        train_set: pandas.DataFrame\n",
    "            Dataframe con los datos de prueba\n",
    "        test_set: pandas.DataFrame\n",
    "            Dataframe con los datos de texst\n",
    "    '''\n",
    "    shuffled_indices = np.random.permutation(len(data)) # Generamos los índices de forma aleatoria\n",
    "    test_set_size = int(len(data) * test_ratio) # Calculamos el  número de muestras que irán al conjunto de test\n",
    "    test_indices = shuffled_indices[:test_set_size] # Seleccionamos los índices para el conjunto de test\n",
    "    train_indices = shuffled_indices[test_set_size:] # Seleccionamos los índices para el conjunto de entrenamiento\n",
    "    return data.iloc[train_indices], data.iloc[test_indices] # Devolvemos los conjuntos de train y test"
   ]
  },
  {
   "cell_type": "code",
   "execution_count": 3,
   "metadata": {},
   "outputs": [
    {
     "data": {
      "text/plain": [
       "(16512, 4128)"
      ]
     },
     "execution_count": 3,
     "metadata": {},
     "output_type": "execute_result"
    }
   ],
   "source": [
    "train_set, test_set = shuffle_and_split_data(housing, 0.2) # generamos los conjuntos de train y test (20% para test)\n",
    "len(train_set), len(test_set)"
   ]
  },
  {
   "cell_type": "markdown",
   "metadata": {},
   "source": [
    "## Muestreo aleatorio con scikit-learn"
   ]
  },
  {
   "cell_type": "markdown",
   "metadata": {},
   "source": [
    "Lo mismo se puede hacer directamente utilizando la función `train_test_split` de scikit-learn:"
   ]
  },
  {
   "cell_type": "code",
   "execution_count": 4,
   "metadata": {},
   "outputs": [
    {
     "data": {
      "text/plain": [
       "(16512, 4128)"
      ]
     },
     "execution_count": 4,
     "metadata": {},
     "output_type": "execute_result"
    }
   ],
   "source": [
    "from sklearn.model_selection import train_test_split\n",
    "train_set, test_set = train_test_split(housing, test_size=0.2, random_state=42)\n",
    "len(train_set), len(test_set)"
   ]
  },
  {
   "cell_type": "markdown",
   "metadata": {},
   "source": [
    "Además, en este ejemplo se pasa también el argumento `random_state` para que el resultado sea reproducible.\n",
    "\n",
    "Hay que recordar que los ordenadores generan números pseudoaleatorios a partir de una [semilla (*random seed*)](https://es.wikipedia.org/wiki/Semilla_aleatoria) que normalmente varía en cada ejecución (precisamente así se consigue aleatoriedad), típicamente una de las más usadas es la hora en milisegundos del sistema en el momento de la ejecución. Por eso, si no se fija la semilla, cada vez que se ejecute el código se obtendrá un resultado distinto.\n",
    "\n",
    "Este parámetro(`random_state`) permite fijar la semilla aleatoria con un número cualquiera para que los resultados sean reproducibles. Esto es útil para comparar distintos modelos, depurar errores o compartir resultados."
   ]
  },
  {
   "cell_type": "markdown",
   "metadata": {},
   "source": [
    "Este método permite recuperara separadamente los datos de entrada y las etiquetas, lo que es útil para entrenar modelos de scikit-learn. En lugar de pasar directamente el dataset, se pasa primero el conjunto de datos (en este caso todas las columnas menos la `median_house_value`) y luego las etiquetas (la columna `median_house_value`)."
   ]
  },
  {
   "cell_type": "code",
   "execution_count": 5,
   "metadata": {},
   "outputs": [],
   "source": [
    "train, test, train_labels, test_labels = train_test_split(\n",
    "    housing.drop(columns=\"median_house_value\"), # Datos de entrada (todos menos la etiqueta)\n",
    "    housing[\"median_house_value\"], # Etiquetas\n",
    "    test_size=0.2,\n",
    "    random_state=42)"
   ]
  },
  {
   "cell_type": "markdown",
   "metadata": {},
   "source": [
    "de este modo tendríamos ya por separado el grupo de prueba con sus datos de entrada y sus etiquetas, y el grupo de entrenamiento con sus datos de entrada y sus etiquetas.\n",
    "\n",
    "[\n",
    "![train_test](img/x-y_train_test.jpg)\n",
    "](https://builtin.com/data-science/train-test-split)"
   ]
  },
  {
   "cell_type": "markdown",
   "metadata": {},
   "source": [
    "## Muestreo estratificado (*Stratified sampling*)"
   ]
  },
  {
   "cell_type": "markdown",
   "metadata": {},
   "source": [
    "La separación anterior se ha realizado aleatoriamente. Esto suele ser correcto con un *dataset* suficientemente grande, pero si no lo es, se corre el riesgo de introducir sesgos de **muestreo**, ya que podría ser que nuestro grupo de test, por ejemplo, no contenga suficientes ejempos en de una parte concreta de la distribución.\n",
    "\n",
    "Supongamos otro caso: en la realización de una encuesta sobre opiniones de la población de España, al no poder consultar a toda la población, se selecciona un **grupo muestral** de 1000 personas. Si solo se utiliza el azar, podríamos encontrarnos con que casi todos los encuestados fuesen hombres. Esto no sería un problema si podemos asumir que hombres y mujeres tienen opiniones homogéneas, pero si no es así, estaríamos sesgando nuestro estudio al considerar que las opiniones mayoritarias entre los hombres son las mayoritarias entre el total de la población. En muchos casos será del mismo modo tener en cuenta aspectos como edad, renta, nivel educativo, localidad, etc.\n",
    "\n",
    "Esto se llama **muestreo sesgado** o ***sampling bias***. Para evitarlo, se puede realizar un **[muestreo estratificado](https://es.wikipedia.org/wiki/Muestreo_estratificado)** dividiendo el *dataset* en grupos llamados **estratos**, y asegurándose de tomar no solo un porcentaje de muestras del total, sino ese porcentaje de cada estrato.\n",
    "\n",
    "En el problema que estamos abordando, podemos esperar que el ingreso mediano sea una variable predictora de especial importancia (más adelante veremos que es el que mejor correla con la salida<!-- TODO: ¿no tendría más sentido juntar todo el EDA antes del testeo? -->). Dado que este atributo es numérico continuo, necesitaremos **discretizarlo** para crear un nuevo atributo de categoría de ingresos donde cada categoría represente un estrato. De ese modo podremos muestrear cada estrato, manteniendo proporcionales sus tamaños en los conjuntos de entrenamiento y prueba.\n",
    "<!-- TODO: ¿estratificar por target no es mejor? ¿más propenso a overffiting? -->\n",
    "\n",
    "Si volvemos a ver el histograma de `median_income`, vemos que la mayoría de los valores se encuentran entre 1.5 y 6, pero algunos llegan hasta 15. Es importante tener un número suficiente de instancias en cada estrato, por lo que no deberíamos tener demasiados estratos, y cada uno debería ser lo suficientemente grande."
   ]
  },
  {
   "cell_type": "code",
   "execution_count": 6,
   "metadata": {},
   "outputs": [
    {
     "data": {
      "image/png": "[encoded data removed]",
      "text/plain": [
       "<Figure size 640x480 with 1 Axes>"
      ]
     },
     "metadata": {},
     "output_type": "display_data"
    }
   ],
   "source": [
    "_ = housing[\"median_income\"].hist(bins=50)"
   ]
  },
  {
   "cell_type": "markdown",
   "metadata": {},
   "source": [
    "La función `pd.cut` de Pandas nos permite crear una nueva columna segmentando en categorías. En este caso, vamos a crear 5 categorías, separando en bloques de 1.5 (salvo el último que agrupará toda la cola gruesa a la derecha), y vamos a usar la función `value_counts` para ver cuántos valores hay en cada categoría."
   ]
  },
  {
   "cell_type": "code",
   "execution_count": 7,
   "metadata": {},
   "outputs": [],
   "source": [
    "housing[\"income_cat\"] = pd.cut(housing[\"median_income\"],\n",
    "                               bins=[0., 1.5, 3.0, 4.5, 6., np.inf], # Secuencia de límites de los contenedores\n",
    "                               labels=[1, 2, 3, 4, 5])"
   ]
  },
  {
   "cell_type": "code",
   "execution_count": 8,
   "metadata": {},
   "outputs": [
    {
     "data": {
      "image/png": "[encoded data removed]",
      "text/plain": [
       "<Figure size 640x480 with 1 Axes>"
      ]
     },
     "metadata": {},
     "output_type": "display_data"
    }
   ],
   "source": [
    "import matplotlib.pyplot as plt\n",
    "\n",
    "housing[\"income_cat\"].value_counts().sort_index().plot.bar(rot=0, grid=True)\n",
    "plt.xlabel(\"Categoría de renta\")\n",
    "plt.ylabel(\"Número de registros\")\n",
    "plt.show()"
   ]
  },
  {
   "cell_type": "markdown",
   "metadata": {},
   "source": [
    "podemos volver a usar la función `train_test_split` de scikit-learn, pero esta vez con el parámetro `stratify` indicando la columna que queremos usar para estratificar el muestreo."
   ]
  },
  {
   "cell_type": "code",
   "execution_count": 9,
   "metadata": {},
   "outputs": [],
   "source": [
    "strat_train_set, strat_test_set = train_test_split(\n",
    "    housing, test_size=0.2, stratify=housing[\"income_cat\"],random_state=42)"
   ]
  },
  {
   "cell_type": "markdown",
   "metadata": {},
   "source": [
    "se observa que el conjunto de prueba generado usando muestreo estratificado una cantidad de muestras en cada estrato mucho más representativa de la población total, pese a ser aleatorio."
   ]
  },
  {
   "cell_type": "code",
   "execution_count": 10,
   "metadata": {},
   "outputs": [
    {
     "data": {
      "text/plain": [
       "income_cat\n",
       "3    0.350533\n",
       "2    0.318798\n",
       "4    0.176357\n",
       "5    0.114341\n",
       "1    0.039971\n",
       "Name: count, dtype: float64"
      ]
     },
     "execution_count": 10,
     "metadata": {},
     "output_type": "execute_result"
    }
   ],
   "source": [
    "strat_test_set[\"income_cat\"].value_counts() / len(strat_test_set)"
   ]
  },
  {
   "cell_type": "markdown",
   "metadata": {},
   "source": [
    "Ahora podemos mostrar un dataframe completo con los errores de muestreo aleatorio y estratificado, y ver que el error de muestreo estratificado es mucho menor."
   ]
  },
  {
   "cell_type": "code",
   "execution_count": 11,
   "metadata": {},
   "outputs": [
    {
     "data": {
      "text/html": [
       "<div>\n",
       "<style scoped>\n",
       "    .dataframe tbody tr th:only-of-type {\n",
       "        vertical-align: middle;\n",
       "    }\n",
       "\n",
       "    .dataframe tbody tr th {\n",
       "        vertical-align: top;\n",
       "    }\n",
       "\n",
       "    .dataframe thead th {\n",
       "        text-align: right;\n",
       "    }\n",
       "</style>\n",
       "<table border=\"1\" class=\"dataframe\">\n",
       "  <thead>\n",
       "    <tr style=\"text-align: right;\">\n",
       "      <th></th>\n",
       "      <th>Overall %</th>\n",
       "      <th>Stratified %</th>\n",
       "      <th>Random %</th>\n",
       "      <th>Strat. Error %</th>\n",
       "      <th>Rand. Error %</th>\n",
       "    </tr>\n",
       "    <tr>\n",
       "      <th>Income Category</th>\n",
       "      <th></th>\n",
       "      <th></th>\n",
       "      <th></th>\n",
       "      <th></th>\n",
       "      <th></th>\n",
       "    </tr>\n",
       "  </thead>\n",
       "  <tbody>\n",
       "    <tr>\n",
       "      <th>1</th>\n",
       "      <td>3.98</td>\n",
       "      <td>4.00</td>\n",
       "      <td>3.97</td>\n",
       "      <td>0.36</td>\n",
       "      <td>-0.24</td>\n",
       "    </tr>\n",
       "    <tr>\n",
       "      <th>2</th>\n",
       "      <td>31.88</td>\n",
       "      <td>31.88</td>\n",
       "      <td>31.35</td>\n",
       "      <td>-0.02</td>\n",
       "      <td>-1.69</td>\n",
       "    </tr>\n",
       "    <tr>\n",
       "      <th>3</th>\n",
       "      <td>35.06</td>\n",
       "      <td>35.05</td>\n",
       "      <td>33.91</td>\n",
       "      <td>-0.01</td>\n",
       "      <td>-3.26</td>\n",
       "    </tr>\n",
       "    <tr>\n",
       "      <th>4</th>\n",
       "      <td>17.63</td>\n",
       "      <td>17.64</td>\n",
       "      <td>18.77</td>\n",
       "      <td>0.03</td>\n",
       "      <td>6.49</td>\n",
       "    </tr>\n",
       "    <tr>\n",
       "      <th>5</th>\n",
       "      <td>11.44</td>\n",
       "      <td>11.43</td>\n",
       "      <td>11.99</td>\n",
       "      <td>-0.08</td>\n",
       "      <td>4.78</td>\n",
       "    </tr>\n",
       "  </tbody>\n",
       "</table>\n",
       "</div>"
      ],
      "text/plain": [
       "                 Overall %  Stratified %  Random %  Strat. Error %  \\\n",
       "Income Category                                                      \n",
       "1                     3.98          4.00      3.97            0.36   \n",
       "2                    31.88         31.88     31.35           -0.02   \n",
       "3                    35.06         35.05     33.91           -0.01   \n",
       "4                    17.63         17.64     18.77            0.03   \n",
       "5                    11.44         11.43     11.99           -0.08   \n",
       "\n",
       "                 Rand. Error %  \n",
       "Income Category                 \n",
       "1                        -0.24  \n",
       "2                        -1.69  \n",
       "3                        -3.26  \n",
       "4                         6.49  \n",
       "5                         4.78  "
      ]
     },
     "execution_count": 11,
     "metadata": {},
     "output_type": "execute_result"
    }
   ],
   "source": [
    "def income_cat_proportions(data):\n",
    "    return data[\"income_cat\"].value_counts() / len(data) # proporción de valores en cada income_cat\n",
    "\n",
    "train_set, test_set = train_test_split(housing, test_size=0.2) # reejeecutando esta celda podemos ver la variación en el split aleatorio\n",
    "\n",
    "compare_props = pd.DataFrame({\n",
    "    \"Overall %\": income_cat_proportions(housing), # proporción de valores en cada income_cat en el dataset original\n",
    "    \"Stratified %\": income_cat_proportions(strat_test_set), # proporción en el conjunto de test estratificado\n",
    "    \"Random %\": income_cat_proportions(test_set), # proporción en el conjunto de test generado aleatoriamente\n",
    "}).sort_index()\n",
    "compare_props.index.name = \"Income Category\"\n",
    "compare_props[\"Strat. Error %\"] = (compare_props[\"Stratified %\"] / compare_props[\"Overall %\"] - 1) # error del estratificado con respecto al original\n",
    "compare_props[\"Rand. Error %\"] = (compare_props[\"Random %\"] / compare_props[\"Overall %\"] - 1) # error del aleatorio con respecto al original\n",
    "(compare_props * 100).round(2) # convertimos todos los valores a porcentaje con dos decimales"
   ]
  },
  {
   "cell_type": "markdown",
   "metadata": {},
   "source": [
    "Como ya no necesitaremos la variable `income_cat` (solo se ha usado como ayuda para estratificar), podemos eliminarla de los dos conjuntos generados."
   ]
  },
  {
   "cell_type": "code",
   "execution_count": 12,
   "metadata": {},
   "outputs": [
    {
     "data": {
      "text/html": [
       "<div>\n",
       "<style scoped>\n",
       "    .dataframe tbody tr th:only-of-type {\n",
       "        vertical-align: middle;\n",
       "    }\n",
       "\n",
       "    .dataframe tbody tr th {\n",
       "        vertical-align: top;\n",
       "    }\n",
       "\n",
       "    .dataframe thead th {\n",
       "        text-align: right;\n",
       "    }\n",
       "</style>\n",
       "<table border=\"1\" class=\"dataframe\">\n",
       "  <thead>\n",
       "    <tr style=\"text-align: right;\">\n",
       "      <th></th>\n",
       "      <th>12655</th>\n",
       "      <th>15502</th>\n",
       "      <th>2908</th>\n",
       "      <th>14053</th>\n",
       "      <th>20496</th>\n",
       "    </tr>\n",
       "  </thead>\n",
       "  <tbody>\n",
       "    <tr>\n",
       "      <th>longitude</th>\n",
       "      <td>-121.46</td>\n",
       "      <td>-117.23</td>\n",
       "      <td>-119.04</td>\n",
       "      <td>-117.13</td>\n",
       "      <td>-118.7</td>\n",
       "    </tr>\n",
       "    <tr>\n",
       "      <th>latitude</th>\n",
       "      <td>38.52</td>\n",
       "      <td>33.09</td>\n",
       "      <td>35.37</td>\n",
       "      <td>32.75</td>\n",
       "      <td>34.28</td>\n",
       "    </tr>\n",
       "    <tr>\n",
       "      <th>housing_median_age</th>\n",
       "      <td>29.0</td>\n",
       "      <td>7.0</td>\n",
       "      <td>44.0</td>\n",
       "      <td>24.0</td>\n",
       "      <td>27.0</td>\n",
       "    </tr>\n",
       "    <tr>\n",
       "      <th>total_rooms</th>\n",
       "      <td>3873.0</td>\n",
       "      <td>5320.0</td>\n",
       "      <td>1618.0</td>\n",
       "      <td>1877.0</td>\n",
       "      <td>3536.0</td>\n",
       "    </tr>\n",
       "    <tr>\n",
       "      <th>total_bedrooms</th>\n",
       "      <td>797.0</td>\n",
       "      <td>855.0</td>\n",
       "      <td>310.0</td>\n",
       "      <td>519.0</td>\n",
       "      <td>646.0</td>\n",
       "    </tr>\n",
       "    <tr>\n",
       "      <th>population</th>\n",
       "      <td>2237.0</td>\n",
       "      <td>2015.0</td>\n",
       "      <td>667.0</td>\n",
       "      <td>898.0</td>\n",
       "      <td>1837.0</td>\n",
       "    </tr>\n",
       "    <tr>\n",
       "      <th>households</th>\n",
       "      <td>706.0</td>\n",
       "      <td>768.0</td>\n",
       "      <td>300.0</td>\n",
       "      <td>483.0</td>\n",
       "      <td>580.0</td>\n",
       "    </tr>\n",
       "    <tr>\n",
       "      <th>median_income</th>\n",
       "      <td>2.1736</td>\n",
       "      <td>6.3373</td>\n",
       "      <td>2.875</td>\n",
       "      <td>2.2264</td>\n",
       "      <td>4.4964</td>\n",
       "    </tr>\n",
       "    <tr>\n",
       "      <th>median_house_value</th>\n",
       "      <td>72100.0</td>\n",
       "      <td>279600.0</td>\n",
       "      <td>82700.0</td>\n",
       "      <td>112500.0</td>\n",
       "      <td>238300.0</td>\n",
       "    </tr>\n",
       "    <tr>\n",
       "      <th>ocean_proximity</th>\n",
       "      <td>INLAND</td>\n",
       "      <td>NEAR OCEAN</td>\n",
       "      <td>INLAND</td>\n",
       "      <td>NEAR OCEAN</td>\n",
       "      <td>&lt;1H OCEAN</td>\n",
       "    </tr>\n",
       "  </tbody>\n",
       "</table>\n",
       "</div>"
      ],
      "text/plain": [
       "                      12655       15502    2908        14053      20496\n",
       "longitude           -121.46     -117.23  -119.04     -117.13     -118.7\n",
       "latitude              38.52       33.09    35.37       32.75      34.28\n",
       "housing_median_age     29.0         7.0     44.0        24.0       27.0\n",
       "total_rooms          3873.0      5320.0   1618.0      1877.0     3536.0\n",
       "total_bedrooms        797.0       855.0    310.0       519.0      646.0\n",
       "population           2237.0      2015.0    667.0       898.0     1837.0\n",
       "households            706.0       768.0    300.0       483.0      580.0\n",
       "median_income        2.1736      6.3373    2.875      2.2264     4.4964\n",
       "median_house_value  72100.0    279600.0  82700.0    112500.0   238300.0\n",
       "ocean_proximity      INLAND  NEAR OCEAN   INLAND  NEAR OCEAN  <1H OCEAN"
      ]
     },
     "execution_count": 12,
     "metadata": {},
     "output_type": "execute_result"
    }
   ],
   "source": [
    "strat_train_set.drop(\"income_cat\", axis=1, inplace=True)\n",
    "strat_test_set.drop(\"income_cat\", axis=1, inplace=True)\n",
    "\n",
    "strat_train_set.head().T"
   ]
  }
 ],
 "metadata": {
  "kernelspec": {
   "display_name": "base",
   "language": "python",
   "name": "python3"
  },
  "language_info": {
   "codemirror_mode": {
    "name": "ipython",
    "version": 3
   },
   "file_extension": ".py",
   "mimetype": "text/x-python",
   "name": "python",
   "nbconvert_exporter": "python",
   "pygments_lexer": "ipython3",
   "version": "3.12.3"
  }
 },
 "nbformat": 4,
 "nbformat_minor": 2
}
